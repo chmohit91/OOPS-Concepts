{
 "cells": [
  {
   "cell_type": "code",
   "execution_count": 4,
   "id": "14980ae0",
   "metadata": {},
   "outputs": [],
   "source": [
    "class Student:\n",
    "    \"\"\"\n",
    "    This class is for students.\n",
    "    It is used to manage information about the student of a college.\n",
    "    \"\"\"\n",
    "    \n",
    "    college_name = \"ABC college\"\n",
    "    departments = ['Arts', 'Commerce', 'Science']\n",
    "    objs = []\n",
    "    \n",
    "    def __init__(self, name, roll_no, subject):\n",
    "        print(\"Calling the initializer of Student class\")\n",
    "        \n",
    "        for details in Student.objs:    \n",
    "            if roll_no == details.roll_no:\n",
    "                print(\"Cannot create object. The roll number is already assigne to an existing stident!!!\")\n",
    "                break\n",
    "        else:\n",
    "            self.name = name\n",
    "            self.roll_no = roll_no\n",
    "            self.subject = subject\n",
    "            Student.objs.append(self)\n",
    "   \n",
    "    def studying(self, hours):\n",
    "        print(self)\n",
    "        return f\"The student studies {hours} hours a day!!\"\n"
   ]
  },
  {
   "cell_type": "code",
   "execution_count": 5,
   "id": "8a9fbeaf",
   "metadata": {},
   "outputs": [
    {
     "name": "stdout",
     "output_type": "stream",
     "text": [
      "Calling the initializer of Student class\n"
     ]
    }
   ],
   "source": [
    "s1 = Student('John', 101, 'Maths')"
   ]
  },
  {
   "cell_type": "code",
   "execution_count": 6,
   "id": "6a11f369",
   "metadata": {},
   "outputs": [
    {
     "data": {
      "text/plain": [
       "{'name': 'John', 'roll_no': 101, 'subject': 'Maths'}"
      ]
     },
     "execution_count": 6,
     "metadata": {},
     "output_type": "execute_result"
    }
   ],
   "source": [
    "s1.__dict__"
   ]
  },
  {
   "cell_type": "code",
   "execution_count": 7,
   "id": "3b2cc66e",
   "metadata": {},
   "outputs": [
    {
     "name": "stdout",
     "output_type": "stream",
     "text": [
      "Calling the initializer of Student class\n"
     ]
    }
   ],
   "source": [
    "s2 = Student('Jill', 102, 'Python')"
   ]
  },
  {
   "cell_type": "code",
   "execution_count": 8,
   "id": "8f2e636b",
   "metadata": {},
   "outputs": [
    {
     "data": {
      "text/plain": [
       "{'name': 'Jill', 'roll_no': 102, 'subject': 'Python'}"
      ]
     },
     "execution_count": 8,
     "metadata": {},
     "output_type": "execute_result"
    }
   ],
   "source": [
    "s2.__dict__"
   ]
  },
  {
   "cell_type": "code",
   "execution_count": 9,
   "id": "f02dc166",
   "metadata": {},
   "outputs": [
    {
     "data": {
      "text/plain": [
       "[<__main__.Student at 0x2160b154750>, <__main__.Student at 0x2160b1f2f10>]"
      ]
     },
     "execution_count": 9,
     "metadata": {},
     "output_type": "execute_result"
    }
   ],
   "source": [
    "Student.objs"
   ]
  },
  {
   "cell_type": "code",
   "execution_count": 10,
   "id": "84c2b423",
   "metadata": {},
   "outputs": [
    {
     "name": "stdout",
     "output_type": "stream",
     "text": [
      "Calling the initializer of Student class\n",
      "Cannot create object. The roll number is already assigne to an existing stident!!!\n"
     ]
    }
   ],
   "source": [
    "s2 = Student('Mark', 102, 'English')"
   ]
  },
  {
   "cell_type": "code",
   "execution_count": 11,
   "id": "eac71e4e",
   "metadata": {},
   "outputs": [
    {
     "ename": "NameError",
     "evalue": "name 's3' is not defined",
     "output_type": "error",
     "traceback": [
      "\u001b[1;31m---------------------------------------------------------------------------\u001b[0m",
      "\u001b[1;31mNameError\u001b[0m                                 Traceback (most recent call last)",
      "Cell \u001b[1;32mIn[11], line 1\u001b[0m\n\u001b[1;32m----> 1\u001b[0m s3\u001b[38;5;241m.\u001b[39m\u001b[38;5;18m__dict__\u001b[39m\n",
      "\u001b[1;31mNameError\u001b[0m: name 's3' is not defined"
     ]
    }
   ],
   "source": [
    "s3.__dict__"
   ]
  },
  {
   "cell_type": "code",
   "execution_count": null,
   "id": "3a01039f",
   "metadata": {},
   "outputs": [],
   "source": []
  },
  {
   "cell_type": "code",
   "execution_count": null,
   "id": "b63f3643",
   "metadata": {},
   "outputs": [],
   "source": []
  },
  {
   "cell_type": "code",
   "execution_count": 12,
   "id": "9fa5a11f",
   "metadata": {},
   "outputs": [],
   "source": [
    "# Static method\n",
    "# method defined inside a class that is neither bound to the object nor to the class"
   ]
  },
  {
   "cell_type": "code",
   "execution_count": 13,
   "id": "99eb99b0",
   "metadata": {},
   "outputs": [],
   "source": [
    "# Static method is created using staticmethod decorator"
   ]
  },
  {
   "cell_type": "code",
   "execution_count": 14,
   "id": "11635d65",
   "metadata": {},
   "outputs": [],
   "source": [
    "class Student:\n",
    "    \"\"\"\n",
    "    This class is for students.\n",
    "    It is used to manage information about the student of a college.\n",
    "    \"\"\"\n",
    "    \n",
    "    college_name = \"ABC college\"\n",
    "    departments = ['Arts', 'Commerce', 'Science']\n",
    "    ids = []\n",
    "    \n",
    "    def __init__(self, name, roll_no, subject):\n",
    "        print(\"Calling the initializer of Student class\")\n",
    "        \n",
    "        \n",
    "        if roll_no in Student.ids:\n",
    "            print(\"Cannot create object. The roll number is already assigne to an existing stident!!!\")\n",
    "        else:\n",
    "            self.roll = roll_no\n",
    "            Student.ids.append(self.roll)\n",
    "            self.name = name\n",
    "            self.subject = subject\n",
    "    \n",
    "    def studying(self, hours):\n",
    "        print(self)\n",
    "        return f\"The student studies {hours} hours a day!!\"\n",
    "    \n",
    "    @classmethod\n",
    "    def welcome_message(cls):\n",
    "        return f\"Welcome to {cls.college_name}!\"\n",
    "    \n",
    "    @staticmethod\n",
    "    def greet():\n",
    "        return \"Good evening!\""
   ]
  },
  {
   "cell_type": "code",
   "execution_count": 15,
   "id": "54245f1b",
   "metadata": {},
   "outputs": [
    {
     "name": "stdout",
     "output_type": "stream",
     "text": [
      "Calling the initializer of Student class\n"
     ]
    }
   ],
   "source": [
    "s1 = Student('Jill', 101, 'Maths')"
   ]
  },
  {
   "cell_type": "code",
   "execution_count": 16,
   "id": "71714e49",
   "metadata": {},
   "outputs": [
    {
     "data": {
      "text/plain": [
       "'Good evening!'"
      ]
     },
     "execution_count": 16,
     "metadata": {},
     "output_type": "execute_result"
    }
   ],
   "source": [
    "s1.greet()"
   ]
  },
  {
   "cell_type": "code",
   "execution_count": 17,
   "id": "87d0ebd9",
   "metadata": {},
   "outputs": [
    {
     "data": {
      "text/plain": [
       "'Good evening!'"
      ]
     },
     "execution_count": 17,
     "metadata": {},
     "output_type": "execute_result"
    }
   ],
   "source": [
    "Student.greet()"
   ]
  },
  {
   "cell_type": "code",
   "execution_count": null,
   "id": "c8c62781",
   "metadata": {},
   "outputs": [],
   "source": []
  },
  {
   "cell_type": "code",
   "execution_count": 18,
   "id": "d7855266",
   "metadata": {},
   "outputs": [],
   "source": [
    "class Student:\n",
    "    \"\"\"\n",
    "    This class is for students.\n",
    "    It is used to manage information about the student of a college.\n",
    "    \"\"\"\n",
    "    \n",
    "    college_name = \"ABC college\"\n",
    "    departments = ['Arts', 'Commerce', 'Science']\n",
    "    ids = []\n",
    "    \n",
    "    def __init__(self, name, roll_no, subject):\n",
    "        print(\"Calling the initializer of Student class\")\n",
    "        \n",
    "        \n",
    "        if roll_no in Student.ids:\n",
    "            print(\"Cannot create object. The roll number is already assigne to an existing stident!!!\")\n",
    "        else:\n",
    "            self.roll = roll_no\n",
    "            Student.ids.append(self.roll)\n",
    "            self.name = name\n",
    "            self.subject = subject\n",
    "    \n",
    "    def studying(self, hours):\n",
    "        print(self)\n",
    "        return f\"The student studies {hours} hours a day!!\"\n",
    "    \n",
    "    def student_details(self):\n",
    "        return f\"{self.name} has an ID of {self.roll} and studies {self.subject}\"\n",
    "    \n",
    "    @classmethod\n",
    "    def welcome_message(cls):\n",
    "        return f\"Welcome to {cls.college_name}!\"\n",
    "    \n",
    "    @staticmethod\n",
    "    def greet():\n",
    "        return \"Good evening!\""
   ]
  },
  {
   "cell_type": "code",
   "execution_count": 19,
   "id": "3a293480",
   "metadata": {},
   "outputs": [
    {
     "name": "stdout",
     "output_type": "stream",
     "text": [
      "Calling the initializer of Student class\n"
     ]
    }
   ],
   "source": [
    "s1 = Student(\"Ross\", 101, 'Science')"
   ]
  },
  {
   "cell_type": "code",
   "execution_count": 20,
   "id": "193b29d2",
   "metadata": {},
   "outputs": [
    {
     "data": {
      "text/plain": [
       "'Ross has an ID of 101 and studies Science'"
      ]
     },
     "execution_count": 20,
     "metadata": {},
     "output_type": "execute_result"
    }
   ],
   "source": [
    "s1.student_details()"
   ]
  },
  {
   "cell_type": "code",
   "execution_count": 21,
   "id": "e814d04e",
   "metadata": {},
   "outputs": [
    {
     "data": {
      "text/plain": [
       "'Good evening!'"
      ]
     },
     "execution_count": 21,
     "metadata": {},
     "output_type": "execute_result"
    }
   ],
   "source": [
    "s1.greet()"
   ]
  },
  {
   "cell_type": "code",
   "execution_count": 22,
   "id": "3c921f5d",
   "metadata": {},
   "outputs": [],
   "source": [
    "def greet():\n",
    "    return \"Good evening!!\""
   ]
  },
  {
   "cell_type": "code",
   "execution_count": 24,
   "id": "9efb30a0",
   "metadata": {},
   "outputs": [
    {
     "data": {
      "text/plain": [
       "'Good evening!!'"
      ]
     },
     "execution_count": 24,
     "metadata": {},
     "output_type": "execute_result"
    }
   ],
   "source": [
    "greet()"
   ]
  },
  {
   "cell_type": "code",
   "execution_count": null,
   "id": "3487f217",
   "metadata": {},
   "outputs": [],
   "source": []
  },
  {
   "cell_type": "code",
   "execution_count": 25,
   "id": "9d4b9a84",
   "metadata": {},
   "outputs": [
    {
     "name": "stdout",
     "output_type": "stream",
     "text": [
      "Help on class Student in module __main__:\n",
      "\n",
      "class Student(builtins.object)\n",
      " |  Student(name, roll_no, subject)\n",
      " |  \n",
      " |  This class is for students.\n",
      " |  It is used to manage information about the student of a college.\n",
      " |  \n",
      " |  Methods defined here:\n",
      " |  \n",
      " |  __init__(self, name, roll_no, subject)\n",
      " |      Initialize self.  See help(type(self)) for accurate signature.\n",
      " |  \n",
      " |  student_details(self)\n",
      " |  \n",
      " |  studying(self, hours)\n",
      " |  \n",
      " |  ----------------------------------------------------------------------\n",
      " |  Class methods defined here:\n",
      " |  \n",
      " |  welcome_message() from builtins.type\n",
      " |  \n",
      " |  ----------------------------------------------------------------------\n",
      " |  Static methods defined here:\n",
      " |  \n",
      " |  greet()\n",
      " |  \n",
      " |  ----------------------------------------------------------------------\n",
      " |  Data descriptors defined here:\n",
      " |  \n",
      " |  __dict__\n",
      " |      dictionary for instance variables (if defined)\n",
      " |  \n",
      " |  __weakref__\n",
      " |      list of weak references to the object (if defined)\n",
      " |  \n",
      " |  ----------------------------------------------------------------------\n",
      " |  Data and other attributes defined here:\n",
      " |  \n",
      " |  college_name = 'ABC college'\n",
      " |  \n",
      " |  departments = ['Arts', 'Commerce', 'Science']\n",
      " |  \n",
      " |  ids = [101]\n",
      "\n"
     ]
    }
   ],
   "source": [
    "help(Student)"
   ]
  },
  {
   "cell_type": "code",
   "execution_count": 26,
   "id": "604d335f",
   "metadata": {},
   "outputs": [
    {
     "name": "stdout",
     "output_type": "stream",
     "text": [
      "Calling the initializer of Student class\n"
     ]
    }
   ],
   "source": [
    "s2 = Student('Chnadler', 102, 'Sarcasm')"
   ]
  },
  {
   "cell_type": "code",
   "execution_count": 27,
   "id": "4d5d3dfd",
   "metadata": {},
   "outputs": [
    {
     "name": "stdout",
     "output_type": "stream",
     "text": [
      "Help on class Student in module __main__:\n",
      "\n",
      "class Student(builtins.object)\n",
      " |  Student(name, roll_no, subject)\n",
      " |  \n",
      " |  This class is for students.\n",
      " |  It is used to manage information about the student of a college.\n",
      " |  \n",
      " |  Methods defined here:\n",
      " |  \n",
      " |  __init__(self, name, roll_no, subject)\n",
      " |      Initialize self.  See help(type(self)) for accurate signature.\n",
      " |  \n",
      " |  student_details(self)\n",
      " |  \n",
      " |  studying(self, hours)\n",
      " |  \n",
      " |  ----------------------------------------------------------------------\n",
      " |  Class methods defined here:\n",
      " |  \n",
      " |  welcome_message() from builtins.type\n",
      " |  \n",
      " |  ----------------------------------------------------------------------\n",
      " |  Static methods defined here:\n",
      " |  \n",
      " |  greet()\n",
      " |  \n",
      " |  ----------------------------------------------------------------------\n",
      " |  Data descriptors defined here:\n",
      " |  \n",
      " |  __dict__\n",
      " |      dictionary for instance variables (if defined)\n",
      " |  \n",
      " |  __weakref__\n",
      " |      list of weak references to the object (if defined)\n",
      " |  \n",
      " |  ----------------------------------------------------------------------\n",
      " |  Data and other attributes defined here:\n",
      " |  \n",
      " |  college_name = 'ABC college'\n",
      " |  \n",
      " |  departments = ['Arts', 'Commerce', 'Science']\n",
      " |  \n",
      " |  ids = [101, 102]\n",
      "\n"
     ]
    }
   ],
   "source": [
    "help(Student)"
   ]
  },
  {
   "cell_type": "code",
   "execution_count": 28,
   "id": "eec78698",
   "metadata": {},
   "outputs": [
    {
     "data": {
      "text/plain": [
       "mappingproxy({'__module__': '__main__',\n",
       "              '__doc__': '\\n    This class is for students.\\n    It is used to manage information about the student of a college.\\n    ',\n",
       "              'college_name': 'ABC college',\n",
       "              'departments': ['Arts', 'Commerce', 'Science'],\n",
       "              'ids': [101, 102],\n",
       "              '__init__': <function __main__.Student.__init__(self, name, roll_no, subject)>,\n",
       "              'studying': <function __main__.Student.studying(self, hours)>,\n",
       "              'student_details': <function __main__.Student.student_details(self)>,\n",
       "              'welcome_message': <classmethod(<function Student.welcome_message at 0x000002160B74B420>)>,\n",
       "              'greet': <staticmethod(<function Student.greet at 0x000002160B74A980>)>,\n",
       "              '__dict__': <attribute '__dict__' of 'Student' objects>,\n",
       "              '__weakref__': <attribute '__weakref__' of 'Student' objects>})"
      ]
     },
     "execution_count": 28,
     "metadata": {},
     "output_type": "execute_result"
    }
   ],
   "source": [
    "Student.__dict__"
   ]
  },
  {
   "cell_type": "code",
   "execution_count": null,
   "id": "ecdba5bc",
   "metadata": {},
   "outputs": [],
   "source": []
  },
  {
   "cell_type": "code",
   "execution_count": 29,
   "id": "2371a2f8",
   "metadata": {},
   "outputs": [],
   "source": [
    "# Access Specifiers"
   ]
  },
  {
   "cell_type": "code",
   "execution_count": 30,
   "id": "4390c9b8",
   "metadata": {},
   "outputs": [],
   "source": [
    "# accessibility of the variables/attributes/methods of the class"
   ]
  },
  {
   "cell_type": "code",
   "execution_count": 32,
   "id": "18c179e8",
   "metadata": {},
   "outputs": [],
   "source": [
    "# Public: Accessible to everyone. By default. eg: var = 2000\n",
    "# Protected: Accessible to the class where it is defined and its child classes. eg: _var = 4000\n",
    "# Private: Accessible only inside the class where it is defined. eg: __var = 1000, __method_name()"
   ]
  },
  {
   "cell_type": "code",
   "execution_count": 33,
   "id": "17aea066",
   "metadata": {},
   "outputs": [],
   "source": [
    "class Employee:\n",
    "    company = 'ABC Motors' # Public\n",
    "    _department = 'IT' # Protected\n",
    "    __salary = 30000 # Private"
   ]
  },
  {
   "cell_type": "code",
   "execution_count": 34,
   "id": "05bc9860",
   "metadata": {},
   "outputs": [],
   "source": [
    "emp1 = Employee()"
   ]
  },
  {
   "cell_type": "code",
   "execution_count": 35,
   "id": "0d7d4177",
   "metadata": {},
   "outputs": [
    {
     "data": {
      "text/plain": [
       "'ABC Motors'"
      ]
     },
     "execution_count": 35,
     "metadata": {},
     "output_type": "execute_result"
    }
   ],
   "source": [
    "emp1.company"
   ]
  },
  {
   "cell_type": "code",
   "execution_count": 36,
   "id": "400b7bc3",
   "metadata": {},
   "outputs": [
    {
     "ename": "AttributeError",
     "evalue": "'Employee' object has no attribute '__salary'",
     "output_type": "error",
     "traceback": [
      "\u001b[1;31m---------------------------------------------------------------------------\u001b[0m",
      "\u001b[1;31mAttributeError\u001b[0m                            Traceback (most recent call last)",
      "Cell \u001b[1;32mIn[36], line 1\u001b[0m\n\u001b[1;32m----> 1\u001b[0m emp1\u001b[38;5;241m.\u001b[39m__salary\n",
      "\u001b[1;31mAttributeError\u001b[0m: 'Employee' object has no attribute '__salary'"
     ]
    }
   ],
   "source": [
    "emp1.__salary"
   ]
  },
  {
   "cell_type": "code",
   "execution_count": 37,
   "id": "d8664471",
   "metadata": {},
   "outputs": [
    {
     "data": {
      "text/plain": [
       "'IT'"
      ]
     },
     "execution_count": 37,
     "metadata": {},
     "output_type": "execute_result"
    }
   ],
   "source": [
    "emp1._department"
   ]
  },
  {
   "cell_type": "code",
   "execution_count": 38,
   "id": "21adf07c",
   "metadata": {},
   "outputs": [],
   "source": [
    "# In Python, there is no TRUE protected access specifier\n",
    "# Techinically, the protected access specifiers can be accessed outside the class\n",
    "# These are used as convention (it is meant to be protected)\n",
    "# It is an indication that - Do not access the protected variables/methods outside the class"
   ]
  },
  {
   "cell_type": "code",
   "execution_count": null,
   "id": "65b10464",
   "metadata": {},
   "outputs": [],
   "source": []
  },
  {
   "cell_type": "code",
   "execution_count": 39,
   "id": "3eeafaf5",
   "metadata": {},
   "outputs": [
    {
     "name": "stdout",
     "output_type": "stream",
     "text": [
      "Help on class Employee in module __main__:\n",
      "\n",
      "class Employee(builtins.object)\n",
      " |  Data descriptors defined here:\n",
      " |  \n",
      " |  __dict__\n",
      " |      dictionary for instance variables (if defined)\n",
      " |  \n",
      " |  __weakref__\n",
      " |      list of weak references to the object (if defined)\n",
      " |  \n",
      " |  ----------------------------------------------------------------------\n",
      " |  Data and other attributes defined here:\n",
      " |  \n",
      " |  company = 'ABC Motors'\n",
      "\n"
     ]
    }
   ],
   "source": [
    "help(Employee)"
   ]
  },
  {
   "cell_type": "code",
   "execution_count": null,
   "id": "258be1e1",
   "metadata": {},
   "outputs": [],
   "source": []
  },
  {
   "cell_type": "code",
   "execution_count": 40,
   "id": "5ea5db94",
   "metadata": {},
   "outputs": [
    {
     "data": {
      "text/plain": [
       "mappingproxy({'__module__': '__main__',\n",
       "              'company': 'ABC Motors',\n",
       "              '_department': 'IT',\n",
       "              '_Employee__salary': 30000,\n",
       "              '__dict__': <attribute '__dict__' of 'Employee' objects>,\n",
       "              '__weakref__': <attribute '__weakref__' of 'Employee' objects>,\n",
       "              '__doc__': None})"
      ]
     },
     "execution_count": 40,
     "metadata": {},
     "output_type": "execute_result"
    }
   ],
   "source": [
    "Employee.__dict__"
   ]
  },
  {
   "cell_type": "code",
   "execution_count": null,
   "id": "06a602c5",
   "metadata": {},
   "outputs": [],
   "source": []
  },
  {
   "cell_type": "code",
   "execution_count": 41,
   "id": "e19449ae",
   "metadata": {},
   "outputs": [],
   "source": [
    "# Name mangling\n",
    "# The private access specifiers are stored as: _ClassName__variable\n",
    "\n",
    "# __salary is stored as _Employee__salary\n",
    "# This is called name mangling"
   ]
  },
  {
   "cell_type": "code",
   "execution_count": 42,
   "id": "b940499b",
   "metadata": {},
   "outputs": [
    {
     "data": {
      "text/plain": [
       "30000"
      ]
     },
     "execution_count": 42,
     "metadata": {},
     "output_type": "execute_result"
    }
   ],
   "source": [
    "emp1._Employee__salary"
   ]
  },
  {
   "cell_type": "code",
   "execution_count": null,
   "id": "6b723e0e",
   "metadata": {},
   "outputs": [],
   "source": []
  },
  {
   "cell_type": "code",
   "execution_count": 43,
   "id": "e34d1cac",
   "metadata": {},
   "outputs": [
    {
     "ename": "AttributeError",
     "evalue": "'Employee' object has no attribute '__salary'",
     "output_type": "error",
     "traceback": [
      "\u001b[1;31m---------------------------------------------------------------------------\u001b[0m",
      "\u001b[1;31mAttributeError\u001b[0m                            Traceback (most recent call last)",
      "Cell \u001b[1;32mIn[43], line 1\u001b[0m\n\u001b[1;32m----> 1\u001b[0m emp1\u001b[38;5;241m.\u001b[39m__salary\n",
      "\u001b[1;31mAttributeError\u001b[0m: 'Employee' object has no attribute '__salary'"
     ]
    }
   ],
   "source": [
    "emp1.__salary"
   ]
  },
  {
   "cell_type": "code",
   "execution_count": null,
   "id": "8813e50e",
   "metadata": {},
   "outputs": [],
   "source": []
  },
  {
   "cell_type": "code",
   "execution_count": 44,
   "id": "2791aa99",
   "metadata": {},
   "outputs": [],
   "source": [
    "# Encapsulating\n",
    "# Binding of data is called encapsulation\n",
    "# Capsulating the data of the class together"
   ]
  },
  {
   "cell_type": "code",
   "execution_count": 45,
   "id": "cecfde90",
   "metadata": {},
   "outputs": [
    {
     "name": "stdout",
     "output_type": "stream",
     "text": [
      "Help on class Student in module __main__:\n",
      "\n",
      "class Student(builtins.object)\n",
      " |  Student(name, roll_no, subject)\n",
      " |  \n",
      " |  This class is for students.\n",
      " |  It is used to manage information about the student of a college.\n",
      " |  \n",
      " |  Methods defined here:\n",
      " |  \n",
      " |  __init__(self, name, roll_no, subject)\n",
      " |      Initialize self.  See help(type(self)) for accurate signature.\n",
      " |  \n",
      " |  student_details(self)\n",
      " |  \n",
      " |  studying(self, hours)\n",
      " |  \n",
      " |  ----------------------------------------------------------------------\n",
      " |  Class methods defined here:\n",
      " |  \n",
      " |  welcome_message() from builtins.type\n",
      " |  \n",
      " |  ----------------------------------------------------------------------\n",
      " |  Static methods defined here:\n",
      " |  \n",
      " |  greet()\n",
      " |  \n",
      " |  ----------------------------------------------------------------------\n",
      " |  Data descriptors defined here:\n",
      " |  \n",
      " |  __dict__\n",
      " |      dictionary for instance variables (if defined)\n",
      " |  \n",
      " |  __weakref__\n",
      " |      list of weak references to the object (if defined)\n",
      " |  \n",
      " |  ----------------------------------------------------------------------\n",
      " |  Data and other attributes defined here:\n",
      " |  \n",
      " |  college_name = 'ABC college'\n",
      " |  \n",
      " |  departments = ['Arts', 'Commerce', 'Science']\n",
      " |  \n",
      " |  ids = [101, 102]\n",
      "\n"
     ]
    }
   ],
   "source": [
    "help(Student)"
   ]
  },
  {
   "cell_type": "code",
   "execution_count": null,
   "id": "562bd0ee",
   "metadata": {},
   "outputs": [],
   "source": []
  },
  {
   "cell_type": "code",
   "execution_count": 46,
   "id": "a7cbc3db",
   "metadata": {},
   "outputs": [
    {
     "name": "stdout",
     "output_type": "stream",
     "text": [
      "Help on class Employee in module __main__:\n",
      "\n",
      "class Employee(builtins.object)\n",
      " |  Data descriptors defined here:\n",
      " |  \n",
      " |  __dict__\n",
      " |      dictionary for instance variables (if defined)\n",
      " |  \n",
      " |  __weakref__\n",
      " |      list of weak references to the object (if defined)\n",
      " |  \n",
      " |  ----------------------------------------------------------------------\n",
      " |  Data and other attributes defined here:\n",
      " |  \n",
      " |  company = 'ABC Motors'\n",
      "\n"
     ]
    }
   ],
   "source": [
    "help(Employee)"
   ]
  },
  {
   "cell_type": "code",
   "execution_count": null,
   "id": "58b1e35b",
   "metadata": {},
   "outputs": [],
   "source": []
  },
  {
   "cell_type": "code",
   "execution_count": 47,
   "id": "a8662a3b",
   "metadata": {},
   "outputs": [],
   "source": [
    "## The attributes of the class should NOT be directly accessed outside the class"
   ]
  },
  {
   "cell_type": "code",
   "execution_count": 48,
   "id": "7a35cb9c",
   "metadata": {},
   "outputs": [
    {
     "data": {
      "text/plain": [
       "'ABC Motors'"
      ]
     },
     "execution_count": 48,
     "metadata": {},
     "output_type": "execute_result"
    }
   ],
   "source": [
    "emp1.company"
   ]
  },
  {
   "cell_type": "code",
   "execution_count": null,
   "id": "38f803dd",
   "metadata": {},
   "outputs": [],
   "source": []
  },
  {
   "cell_type": "code",
   "execution_count": 50,
   "id": "0d98e101",
   "metadata": {},
   "outputs": [],
   "source": [
    "# Direct fetching and setting/modifying of the variables should not be allowed"
   ]
  },
  {
   "cell_type": "code",
   "execution_count": 51,
   "id": "66faeb78",
   "metadata": {},
   "outputs": [],
   "source": [
    "class Employee:\n",
    "    company = 'ABC corporation'\n",
    "    departments = ['IT', 'Admin', 'HR']\n",
    "    \n",
    "    def __init__(self, empid, empname, empsal):\n",
    "        self.empid = empid\n",
    "        self.empname = empname\n",
    "        self.empsal = empsal\n",
    "        \n",
    "    def get_details(self):\n",
    "        return f\"{self.empname} has an employee ID of {self.empid} and earns {self.empsal}\""
   ]
  },
  {
   "cell_type": "code",
   "execution_count": 52,
   "id": "2550e097",
   "metadata": {},
   "outputs": [],
   "source": [
    "emp1 = Employee(1001, 'John', 30000)"
   ]
  },
  {
   "cell_type": "code",
   "execution_count": 53,
   "id": "544f4e3b",
   "metadata": {},
   "outputs": [
    {
     "data": {
      "text/plain": [
       "'John has an employee ID of 1001 and earns 30000'"
      ]
     },
     "execution_count": 53,
     "metadata": {},
     "output_type": "execute_result"
    }
   ],
   "source": [
    "emp1.get_details()"
   ]
  },
  {
   "cell_type": "code",
   "execution_count": 54,
   "id": "8f4e0e88",
   "metadata": {},
   "outputs": [
    {
     "data": {
      "text/plain": [
       "30000"
      ]
     },
     "execution_count": 54,
     "metadata": {},
     "output_type": "execute_result"
    }
   ],
   "source": [
    "emp1.empsal"
   ]
  },
  {
   "cell_type": "code",
   "execution_count": 55,
   "id": "e2a2c122",
   "metadata": {},
   "outputs": [],
   "source": [
    "emp1.empsal = -1"
   ]
  },
  {
   "cell_type": "code",
   "execution_count": 56,
   "id": "b8a90c25",
   "metadata": {},
   "outputs": [
    {
     "data": {
      "text/plain": [
       "-1"
      ]
     },
     "execution_count": 56,
     "metadata": {},
     "output_type": "execute_result"
    }
   ],
   "source": [
    "emp1.empsal"
   ]
  },
  {
   "cell_type": "code",
   "execution_count": 57,
   "id": "38b04352",
   "metadata": {},
   "outputs": [],
   "source": [
    "# To restrict the direct access and modification of the variables, we implement => Getter and Setter"
   ]
  },
  {
   "cell_type": "code",
   "execution_count": 58,
   "id": "98af7acc",
   "metadata": {},
   "outputs": [],
   "source": [
    "# Getters and Setters"
   ]
  },
  {
   "cell_type": "code",
   "execution_count": 59,
   "id": "72c05b7b",
   "metadata": {},
   "outputs": [],
   "source": [
    "# Getter is for getting or fetching\n",
    "# Setter is for modifying or setting"
   ]
  },
  {
   "cell_type": "code",
   "execution_count": 60,
   "id": "a66ff25d",
   "metadata": {},
   "outputs": [],
   "source": [
    "# In Python, getters and setters are created using a decorator => 'property'"
   ]
  },
  {
   "cell_type": "code",
   "execution_count": null,
   "id": "ea9e4c87",
   "metadata": {},
   "outputs": [],
   "source": []
  },
  {
   "cell_type": "code",
   "execution_count": 62,
   "id": "0375fe73",
   "metadata": {},
   "outputs": [],
   "source": [
    "class Employee:\n",
    "    company = 'ABC corporation'\n",
    "    departments = ['IT', 'Admin', 'HR']\n",
    "    \n",
    "    def __init__(self, empid, empname, empsal):\n",
    "        self.empid = empid\n",
    "        self.empname = empname\n",
    "        self.__empsal = empsal\n",
    "        \n",
    "    @property\n",
    "    def salary(self):\n",
    "        return self.__empsal"
   ]
  },
  {
   "cell_type": "code",
   "execution_count": 64,
   "id": "60ad0ad6",
   "metadata": {},
   "outputs": [],
   "source": [
    "# Here, salary() is a getter for __empsal"
   ]
  },
  {
   "cell_type": "code",
   "execution_count": 65,
   "id": "e20ba254",
   "metadata": {},
   "outputs": [],
   "source": [
    "emp1 = Employee(1001, 'John', 30000)"
   ]
  },
  {
   "cell_type": "code",
   "execution_count": 66,
   "id": "bfe5f058",
   "metadata": {},
   "outputs": [
    {
     "ename": "TypeError",
     "evalue": "'int' object is not callable",
     "output_type": "error",
     "traceback": [
      "\u001b[1;31m---------------------------------------------------------------------------\u001b[0m",
      "\u001b[1;31mTypeError\u001b[0m                                 Traceback (most recent call last)",
      "Cell \u001b[1;32mIn[66], line 1\u001b[0m\n\u001b[1;32m----> 1\u001b[0m emp1\u001b[38;5;241m.\u001b[39msalary()\n",
      "\u001b[1;31mTypeError\u001b[0m: 'int' object is not callable"
     ]
    }
   ],
   "source": [
    "emp1.salary()"
   ]
  },
  {
   "cell_type": "code",
   "execution_count": null,
   "id": "10dec71e",
   "metadata": {},
   "outputs": [],
   "source": []
  },
  {
   "cell_type": "code",
   "execution_count": 67,
   "id": "5b5b5bf4",
   "metadata": {},
   "outputs": [],
   "source": [
    "class Employee:\n",
    "    company = 'ABC corporation'\n",
    "    departments = ['IT', 'Admin', 'HR']\n",
    "    \n",
    "    def __init__(self, empid, empname, empsal):\n",
    "        self.empid = empid\n",
    "        self.empname = empname\n",
    "        self.__empsal = empsal\n",
    "        \n",
    "    def salary(self):\n",
    "        return self.__empsal"
   ]
  },
  {
   "cell_type": "code",
   "execution_count": 68,
   "id": "f7f4f8e0",
   "metadata": {},
   "outputs": [],
   "source": [
    "emp1 = Employee(1001, 'John', 30000)"
   ]
  },
  {
   "cell_type": "code",
   "execution_count": 69,
   "id": "8958d1f2",
   "metadata": {},
   "outputs": [
    {
     "data": {
      "text/plain": [
       "30000"
      ]
     },
     "execution_count": 69,
     "metadata": {},
     "output_type": "execute_result"
    }
   ],
   "source": [
    "emp1.salary()"
   ]
  },
  {
   "cell_type": "code",
   "execution_count": null,
   "id": "7ed8982c",
   "metadata": {},
   "outputs": [],
   "source": []
  },
  {
   "cell_type": "code",
   "execution_count": 70,
   "id": "e70ed097",
   "metadata": {},
   "outputs": [],
   "source": [
    "class Employee:\n",
    "    company = 'ABC corporation'\n",
    "    departments = ['IT', 'Admin', 'HR']\n",
    "    \n",
    "    def __init__(self, empid, empname, empsal):\n",
    "        self.empid = empid\n",
    "        self.empname = empname\n",
    "        self.__empsal = empsal\n",
    "        \n",
    "    @property\n",
    "    def salary(self):\n",
    "        return self.__empsal"
   ]
  },
  {
   "cell_type": "code",
   "execution_count": 71,
   "id": "73f3e122",
   "metadata": {},
   "outputs": [],
   "source": [
    "emp1 = Employee(1001, 'John', 30000)"
   ]
  },
  {
   "cell_type": "code",
   "execution_count": 72,
   "id": "0e552251",
   "metadata": {},
   "outputs": [
    {
     "ename": "TypeError",
     "evalue": "'int' object is not callable",
     "output_type": "error",
     "traceback": [
      "\u001b[1;31m---------------------------------------------------------------------------\u001b[0m",
      "\u001b[1;31mTypeError\u001b[0m                                 Traceback (most recent call last)",
      "Cell \u001b[1;32mIn[72], line 1\u001b[0m\n\u001b[1;32m----> 1\u001b[0m emp1\u001b[38;5;241m.\u001b[39msalary()\n",
      "\u001b[1;31mTypeError\u001b[0m: 'int' object is not callable"
     ]
    }
   ],
   "source": [
    "emp1.salary()"
   ]
  },
  {
   "cell_type": "code",
   "execution_count": 73,
   "id": "e1cddc46",
   "metadata": {},
   "outputs": [],
   "source": [
    "var = 2000"
   ]
  },
  {
   "cell_type": "code",
   "execution_count": 74,
   "id": "7f2e1d3d",
   "metadata": {},
   "outputs": [
    {
     "ename": "TypeError",
     "evalue": "'int' object is not callable",
     "output_type": "error",
     "traceback": [
      "\u001b[1;31m---------------------------------------------------------------------------\u001b[0m",
      "\u001b[1;31mTypeError\u001b[0m                                 Traceback (most recent call last)",
      "Cell \u001b[1;32mIn[74], line 1\u001b[0m\n\u001b[1;32m----> 1\u001b[0m var()\n",
      "\u001b[1;31mTypeError\u001b[0m: 'int' object is not callable"
     ]
    }
   ],
   "source": [
    "var()"
   ]
  },
  {
   "cell_type": "code",
   "execution_count": 75,
   "id": "1a105bee",
   "metadata": {},
   "outputs": [
    {
     "data": {
      "text/plain": [
       "30000"
      ]
     },
     "execution_count": 75,
     "metadata": {},
     "output_type": "execute_result"
    }
   ],
   "source": [
    "emp1.salary"
   ]
  },
  {
   "cell_type": "code",
   "execution_count": 76,
   "id": "b5126c87",
   "metadata": {},
   "outputs": [
    {
     "ename": "AttributeError",
     "evalue": "'Employee' object has no attribute 'empsal'",
     "output_type": "error",
     "traceback": [
      "\u001b[1;31m---------------------------------------------------------------------------\u001b[0m",
      "\u001b[1;31mAttributeError\u001b[0m                            Traceback (most recent call last)",
      "Cell \u001b[1;32mIn[76], line 1\u001b[0m\n\u001b[1;32m----> 1\u001b[0m emp1\u001b[38;5;241m.\u001b[39mempsal\n",
      "\u001b[1;31mAttributeError\u001b[0m: 'Employee' object has no attribute 'empsal'"
     ]
    }
   ],
   "source": [
    "emp1.empsal"
   ]
  },
  {
   "cell_type": "code",
   "execution_count": 77,
   "id": "036559c5",
   "metadata": {},
   "outputs": [
    {
     "ename": "AttributeError",
     "evalue": "'Employee' object has no attribute '__empsal'",
     "output_type": "error",
     "traceback": [
      "\u001b[1;31m---------------------------------------------------------------------------\u001b[0m",
      "\u001b[1;31mAttributeError\u001b[0m                            Traceback (most recent call last)",
      "Cell \u001b[1;32mIn[77], line 1\u001b[0m\n\u001b[1;32m----> 1\u001b[0m emp1\u001b[38;5;241m.\u001b[39m__empsal\n",
      "\u001b[1;31mAttributeError\u001b[0m: 'Employee' object has no attribute '__empsal'"
     ]
    }
   ],
   "source": [
    "emp1.__empsal"
   ]
  },
  {
   "cell_type": "code",
   "execution_count": 78,
   "id": "c1052fb6",
   "metadata": {},
   "outputs": [],
   "source": [
    "# Setter for __empsal"
   ]
  },
  {
   "cell_type": "code",
   "execution_count": 79,
   "id": "629a4489",
   "metadata": {},
   "outputs": [],
   "source": [
    "class Employee:\n",
    "    company = 'ABC corporation'\n",
    "    departments = ['IT', 'Admin', 'HR']\n",
    "    \n",
    "    def __init__(self, empid, empname, empsal):\n",
    "        self.empid = empid\n",
    "        self.empname = empname\n",
    "        self.__empsal = empsal\n",
    "        \n",
    "    # Getter for __empsal\n",
    "    @property\n",
    "    def salary(self):\n",
    "        return self.__empsal\n",
    "    \n",
    "    \n",
    "    # Setter for __empsal\n",
    "    @salary.setter\n",
    "    def salary(self, new_salary):\n",
    "        self.__empsal = new_salary"
   ]
  },
  {
   "cell_type": "code",
   "execution_count": 80,
   "id": "5fb3d543",
   "metadata": {},
   "outputs": [],
   "source": [
    "emp1 = Employee(1001, 'John', 30000)"
   ]
  },
  {
   "cell_type": "code",
   "execution_count": 81,
   "id": "d64b0bda",
   "metadata": {},
   "outputs": [
    {
     "data": {
      "text/plain": [
       "30000"
      ]
     },
     "execution_count": 81,
     "metadata": {},
     "output_type": "execute_result"
    }
   ],
   "source": [
    "emp1.salary"
   ]
  },
  {
   "cell_type": "code",
   "execution_count": 82,
   "id": "2d839363",
   "metadata": {},
   "outputs": [],
   "source": [
    "emp1.salary = 40000"
   ]
  },
  {
   "cell_type": "code",
   "execution_count": 83,
   "id": "f63464ad",
   "metadata": {},
   "outputs": [
    {
     "data": {
      "text/plain": [
       "40000"
      ]
     },
     "execution_count": 83,
     "metadata": {},
     "output_type": "execute_result"
    }
   ],
   "source": [
    "emp1.salary"
   ]
  },
  {
   "cell_type": "code",
   "execution_count": 84,
   "id": "6981e5c4",
   "metadata": {},
   "outputs": [
    {
     "data": {
      "text/plain": [
       "mappingproxy({'__module__': '__main__',\n",
       "              'company': 'ABC corporation',\n",
       "              'departments': ['IT', 'Admin', 'HR'],\n",
       "              '__init__': <function __main__.Employee.__init__(self, empid, empname, empsal)>,\n",
       "              'salary': <property at 0x2160c49fbf0>,\n",
       "              '__dict__': <attribute '__dict__' of 'Employee' objects>,\n",
       "              '__weakref__': <attribute '__weakref__' of 'Employee' objects>,\n",
       "              '__doc__': None})"
      ]
     },
     "execution_count": 84,
     "metadata": {},
     "output_type": "execute_result"
    }
   ],
   "source": [
    "Employee.__dict__"
   ]
  },
  {
   "cell_type": "code",
   "execution_count": 85,
   "id": "5f436b49",
   "metadata": {},
   "outputs": [
    {
     "data": {
      "text/plain": [
       "{'empid': 1001, 'empname': 'John', '_Employee__empsal': 40000}"
      ]
     },
     "execution_count": 85,
     "metadata": {},
     "output_type": "execute_result"
    }
   ],
   "source": [
    "emp1.__dict__"
   ]
  },
  {
   "cell_type": "code",
   "execution_count": null,
   "id": "67308efc",
   "metadata": {},
   "outputs": [],
   "source": []
  },
  {
   "cell_type": "code",
   "execution_count": 86,
   "id": "8b9bd13c",
   "metadata": {},
   "outputs": [
    {
     "data": {
      "text/plain": [
       "40000"
      ]
     },
     "execution_count": 86,
     "metadata": {},
     "output_type": "execute_result"
    }
   ],
   "source": [
    "emp1.salary"
   ]
  },
  {
   "cell_type": "code",
   "execution_count": 87,
   "id": "f94f98a5",
   "metadata": {},
   "outputs": [],
   "source": [
    "emp1.salary = -10"
   ]
  },
  {
   "cell_type": "code",
   "execution_count": 88,
   "id": "8cc09d8b",
   "metadata": {},
   "outputs": [
    {
     "data": {
      "text/plain": [
       "-10"
      ]
     },
     "execution_count": 88,
     "metadata": {},
     "output_type": "execute_result"
    }
   ],
   "source": [
    "emp1.salary"
   ]
  },
  {
   "cell_type": "code",
   "execution_count": null,
   "id": "ba16e846",
   "metadata": {},
   "outputs": [],
   "source": []
  },
  {
   "cell_type": "code",
   "execution_count": 89,
   "id": "8ce04e9b",
   "metadata": {},
   "outputs": [],
   "source": [
    "class Employee:\n",
    "    company = 'ABC corporation'\n",
    "    departments = ['IT', 'Admin', 'HR']\n",
    "    \n",
    "    def __init__(self, empid, empname, empsal):\n",
    "        self.empid = empid\n",
    "        self.empname = empname\n",
    "        self.__empsal = empsal\n",
    "        \n",
    "    # Getter for __empsal\n",
    "    @property\n",
    "    def salary(self):\n",
    "        return self.__empsal\n",
    "    \n",
    "    \n",
    "    # Setter for __empsal\n",
    "    @salary.setter\n",
    "    def salary(self, new_salary):\n",
    "        if new_salary >= self.__empsal:\n",
    "            self.__empsal = new_salary\n",
    "        else:\n",
    "            print(f\"Cannot change the salary to a lower value. Current salary is {self.__empsal}\")"
   ]
  },
  {
   "cell_type": "code",
   "execution_count": 90,
   "id": "2397e4c4",
   "metadata": {},
   "outputs": [],
   "source": [
    "emp1 = Employee(1001, 'John', 30000)"
   ]
  },
  {
   "cell_type": "code",
   "execution_count": 91,
   "id": "79c07f56",
   "metadata": {},
   "outputs": [
    {
     "data": {
      "text/plain": [
       "30000"
      ]
     },
     "execution_count": 91,
     "metadata": {},
     "output_type": "execute_result"
    }
   ],
   "source": [
    "emp1.salary"
   ]
  },
  {
   "cell_type": "code",
   "execution_count": 92,
   "id": "046f835d",
   "metadata": {},
   "outputs": [],
   "source": [
    "emp1.salary = 45000"
   ]
  },
  {
   "cell_type": "code",
   "execution_count": 93,
   "id": "ea09cc80",
   "metadata": {},
   "outputs": [
    {
     "data": {
      "text/plain": [
       "45000"
      ]
     },
     "execution_count": 93,
     "metadata": {},
     "output_type": "execute_result"
    }
   ],
   "source": [
    "emp1.salary"
   ]
  },
  {
   "cell_type": "code",
   "execution_count": 94,
   "id": "bcdeb8fa",
   "metadata": {},
   "outputs": [
    {
     "name": "stdout",
     "output_type": "stream",
     "text": [
      "Cannot change the salary to a lower value. Current salary is 45000\n"
     ]
    }
   ],
   "source": [
    "emp1.salary = 10000"
   ]
  },
  {
   "cell_type": "code",
   "execution_count": 95,
   "id": "0ba75907",
   "metadata": {},
   "outputs": [
    {
     "data": {
      "text/plain": [
       "45000"
      ]
     },
     "execution_count": 95,
     "metadata": {},
     "output_type": "execute_result"
    }
   ],
   "source": [
    "emp1.salary"
   ]
  },
  {
   "cell_type": "code",
   "execution_count": null,
   "id": "481e0c44",
   "metadata": {},
   "outputs": [],
   "source": []
  }
 ],
 "metadata": {
  "kernelspec": {
   "display_name": "Python 3 (ipykernel)",
   "language": "python",
   "name": "python3"
  },
  "language_info": {
   "codemirror_mode": {
    "name": "ipython",
    "version": 3
   },
   "file_extension": ".py",
   "mimetype": "text/x-python",
   "name": "python",
   "nbconvert_exporter": "python",
   "pygments_lexer": "ipython3",
   "version": "3.11.4"
  }
 },
 "nbformat": 4,
 "nbformat_minor": 5
}
