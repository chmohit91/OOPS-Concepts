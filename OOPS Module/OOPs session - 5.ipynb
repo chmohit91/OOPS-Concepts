{
 "cells": [
  {
   "cell_type": "code",
   "execution_count": 2,
   "id": "1f26d35f",
   "metadata": {},
   "outputs": [],
   "source": [
    "# Inheritance"
   ]
  },
  {
   "cell_type": "code",
   "execution_count": 3,
   "id": "fb111ba3",
   "metadata": {},
   "outputs": [],
   "source": [
    "# When a class inherits the attributes and the methods of another class"
   ]
  },
  {
   "cell_type": "code",
   "execution_count": null,
   "id": "6d2b780b",
   "metadata": {},
   "outputs": [],
   "source": []
  },
  {
   "cell_type": "code",
   "execution_count": 4,
   "id": "7f577265",
   "metadata": {},
   "outputs": [],
   "source": [
    "class Bike:\n",
    "    company = 'ABC Motors'\n",
    "    \n",
    "    def __init__(self, mileage, engine_cc, brake_type):\n",
    "        self.mileage = mileage\n",
    "        self.engine_cc = engine_cc\n",
    "        self.brake_type = brake_type\n",
    "        \n",
    "    def bike_details(self):\n",
    "        return f\"The bike has {self.engine_cc} cc engine, a mileage of {self.mileage} and {self.brake_type} brakes\""
   ]
  },
  {
   "cell_type": "code",
   "execution_count": 5,
   "id": "eb14e037",
   "metadata": {},
   "outputs": [],
   "source": [
    "b1 = Bike(40, 150, 'disc')"
   ]
  },
  {
   "cell_type": "code",
   "execution_count": 6,
   "id": "ebf529d4",
   "metadata": {},
   "outputs": [
    {
     "data": {
      "text/plain": [
       "<__main__.Bike at 0x1470dce4a90>"
      ]
     },
     "execution_count": 6,
     "metadata": {},
     "output_type": "execute_result"
    }
   ],
   "source": [
    "b1"
   ]
  },
  {
   "cell_type": "code",
   "execution_count": 7,
   "id": "8bd56b40",
   "metadata": {},
   "outputs": [
    {
     "data": {
      "text/plain": [
       "'The bike has 150 cc engine, a mileage of 40 and disc brakes'"
      ]
     },
     "execution_count": 7,
     "metadata": {},
     "output_type": "execute_result"
    }
   ],
   "source": [
    "b1.bike_details()"
   ]
  },
  {
   "cell_type": "code",
   "execution_count": 8,
   "id": "b7207d74",
   "metadata": {},
   "outputs": [],
   "source": [
    "class ThunderBike(Bike):\n",
    "    pass"
   ]
  },
  {
   "cell_type": "code",
   "execution_count": 9,
   "id": "12ab0f1d",
   "metadata": {},
   "outputs": [],
   "source": [
    "# The class ThunderBike inherits the class Bike"
   ]
  },
  {
   "cell_type": "code",
   "execution_count": 10,
   "id": "8c45f5b5",
   "metadata": {},
   "outputs": [],
   "source": [
    "# If one class inherting from another class, it is called single inheritance"
   ]
  },
  {
   "cell_type": "code",
   "execution_count": 11,
   "id": "8cb3ad58",
   "metadata": {},
   "outputs": [],
   "source": [
    "# ThunderBike - child/sub/derived class\n",
    "# Bike - parent/super/base class"
   ]
  },
  {
   "cell_type": "code",
   "execution_count": null,
   "id": "9e657e65",
   "metadata": {},
   "outputs": [],
   "source": []
  },
  {
   "cell_type": "code",
   "execution_count": 12,
   "id": "61f2848e",
   "metadata": {},
   "outputs": [
    {
     "name": "stdout",
     "output_type": "stream",
     "text": [
      "Help on class Bike in module __main__:\n",
      "\n",
      "class Bike(builtins.object)\n",
      " |  Bike(mileage, engine_cc, brake_type)\n",
      " |  \n",
      " |  Methods defined here:\n",
      " |  \n",
      " |  __init__(self, mileage, engine_cc, brake_type)\n",
      " |      Initialize self.  See help(type(self)) for accurate signature.\n",
      " |  \n",
      " |  bike_details(self)\n",
      " |  \n",
      " |  ----------------------------------------------------------------------\n",
      " |  Data descriptors defined here:\n",
      " |  \n",
      " |  __dict__\n",
      " |      dictionary for instance variables (if defined)\n",
      " |  \n",
      " |  __weakref__\n",
      " |      list of weak references to the object (if defined)\n",
      " |  \n",
      " |  ----------------------------------------------------------------------\n",
      " |  Data and other attributes defined here:\n",
      " |  \n",
      " |  company = 'ABC Motors'\n",
      "\n"
     ]
    }
   ],
   "source": [
    "help(Bike)"
   ]
  },
  {
   "cell_type": "code",
   "execution_count": null,
   "id": "3ea02007",
   "metadata": {},
   "outputs": [],
   "source": []
  },
  {
   "cell_type": "code",
   "execution_count": 13,
   "id": "d2d77413",
   "metadata": {},
   "outputs": [],
   "source": [
    "# The ThunderBike class has access to all the public and protected variables and methods of the Bike class"
   ]
  },
  {
   "cell_type": "code",
   "execution_count": null,
   "id": "55139ad6",
   "metadata": {},
   "outputs": [],
   "source": []
  },
  {
   "cell_type": "code",
   "execution_count": 14,
   "id": "03c968df",
   "metadata": {},
   "outputs": [
    {
     "ename": "TypeError",
     "evalue": "Bike.__init__() missing 3 required positional arguments: 'mileage', 'engine_cc', and 'brake_type'",
     "output_type": "error",
     "traceback": [
      "\u001b[1;31m---------------------------------------------------------------------------\u001b[0m",
      "\u001b[1;31mTypeError\u001b[0m                                 Traceback (most recent call last)",
      "Cell \u001b[1;32mIn[14], line 1\u001b[0m\n\u001b[1;32m----> 1\u001b[0m tb1 \u001b[38;5;241m=\u001b[39m ThunderBike()\n",
      "\u001b[1;31mTypeError\u001b[0m: Bike.__init__() missing 3 required positional arguments: 'mileage', 'engine_cc', and 'brake_type'"
     ]
    }
   ],
   "source": [
    "tb1 = ThunderBike()"
   ]
  },
  {
   "cell_type": "code",
   "execution_count": 15,
   "id": "34614ea4",
   "metadata": {},
   "outputs": [],
   "source": [
    "# When the child class does not have its own __init__() and we create an object of that child class,\n",
    "# __init__() method of the parent class is called\n",
    "\n",
    "# So, it becomes the responsibility of the child class to initialize the parent class's attributes"
   ]
  },
  {
   "cell_type": "code",
   "execution_count": 16,
   "id": "e09f0472",
   "metadata": {},
   "outputs": [],
   "source": [
    "# the child class has to initialize the instance variables of the parent class (if parent has __init__())"
   ]
  },
  {
   "cell_type": "code",
   "execution_count": 17,
   "id": "c4f72c01",
   "metadata": {},
   "outputs": [],
   "source": [
    "tb1 = ThunderBike(35, 200, 'V-type')"
   ]
  },
  {
   "cell_type": "code",
   "execution_count": 18,
   "id": "ade26830",
   "metadata": {},
   "outputs": [
    {
     "data": {
      "text/plain": [
       "<__main__.ThunderBike at 0x1470e3ae110>"
      ]
     },
     "execution_count": 18,
     "metadata": {},
     "output_type": "execute_result"
    }
   ],
   "source": [
    "tb1"
   ]
  },
  {
   "cell_type": "code",
   "execution_count": 19,
   "id": "ce3144f0",
   "metadata": {},
   "outputs": [
    {
     "data": {
      "text/plain": [
       "{'mileage': 35, 'engine_cc': 200, 'brake_type': 'V-type'}"
      ]
     },
     "execution_count": 19,
     "metadata": {},
     "output_type": "execute_result"
    }
   ],
   "source": [
    "tb1.__dict__"
   ]
  },
  {
   "cell_type": "code",
   "execution_count": 20,
   "id": "69a0679f",
   "metadata": {},
   "outputs": [
    {
     "data": {
      "text/plain": [
       "'The bike has 200 cc engine, a mileage of 35 and V-type brakes'"
      ]
     },
     "execution_count": 20,
     "metadata": {},
     "output_type": "execute_result"
    }
   ],
   "source": [
    "tb1.bike_details()"
   ]
  },
  {
   "cell_type": "code",
   "execution_count": 21,
   "id": "d63ce9aa",
   "metadata": {},
   "outputs": [
    {
     "data": {
      "text/plain": [
       "'ABC Motors'"
      ]
     },
     "execution_count": 21,
     "metadata": {},
     "output_type": "execute_result"
    }
   ],
   "source": [
    "tb1.company"
   ]
  },
  {
   "cell_type": "code",
   "execution_count": 22,
   "id": "549b57fa",
   "metadata": {},
   "outputs": [
    {
     "name": "stdout",
     "output_type": "stream",
     "text": [
      "Help on class ThunderBike in module __main__:\n",
      "\n",
      "class ThunderBike(Bike)\n",
      " |  ThunderBike(mileage, engine_cc, brake_type)\n",
      " |  \n",
      " |  Method resolution order:\n",
      " |      ThunderBike\n",
      " |      Bike\n",
      " |      builtins.object\n",
      " |  \n",
      " |  Methods inherited from Bike:\n",
      " |  \n",
      " |  __init__(self, mileage, engine_cc, brake_type)\n",
      " |      Initialize self.  See help(type(self)) for accurate signature.\n",
      " |  \n",
      " |  bike_details(self)\n",
      " |  \n",
      " |  ----------------------------------------------------------------------\n",
      " |  Data descriptors inherited from Bike:\n",
      " |  \n",
      " |  __dict__\n",
      " |      dictionary for instance variables (if defined)\n",
      " |  \n",
      " |  __weakref__\n",
      " |      list of weak references to the object (if defined)\n",
      " |  \n",
      " |  ----------------------------------------------------------------------\n",
      " |  Data and other attributes inherited from Bike:\n",
      " |  \n",
      " |  company = 'ABC Motors'\n",
      "\n"
     ]
    }
   ],
   "source": [
    "help(ThunderBike)"
   ]
  },
  {
   "cell_type": "code",
   "execution_count": null,
   "id": "37ad3c0a",
   "metadata": {},
   "outputs": [],
   "source": []
  },
  {
   "cell_type": "code",
   "execution_count": 23,
   "id": "2e7ae4f8",
   "metadata": {},
   "outputs": [],
   "source": [
    "class Bike:\n",
    "    company = 'ABC Motors'\n",
    "    \n",
    "    def __init__(self, mileage, engine_cc, brake_type):\n",
    "        print(\"init of Bike class\")\n",
    "        self.mileage = mileage\n",
    "        self.engine_cc = engine_cc\n",
    "        self.brake_type = brake_type\n",
    "        \n",
    "    def bike_details(self):\n",
    "        return f\"The bike has {self.engine_cc} cc engine, a mileage of {self.mileage} and {self.brake_type} brakes\""
   ]
  },
  {
   "cell_type": "code",
   "execution_count": null,
   "id": "698ae2fc",
   "metadata": {},
   "outputs": [],
   "source": []
  },
  {
   "cell_type": "code",
   "execution_count": 24,
   "id": "d4a30e48",
   "metadata": {},
   "outputs": [],
   "source": [
    "# What if the child class has its own __init__()"
   ]
  },
  {
   "cell_type": "code",
   "execution_count": 25,
   "id": "2157ef18",
   "metadata": {},
   "outputs": [],
   "source": [
    "class ThunderBike(Bike):\n",
    "    def __init__(self, fuel_capacity, if_abs):\n",
    "        print(\"init of ThunderBike\")\n",
    "        self.fuel_capacity = fuel_capacity\n",
    "        self.if_abs = if_abs"
   ]
  },
  {
   "cell_type": "code",
   "execution_count": 26,
   "id": "169c4a00",
   "metadata": {},
   "outputs": [],
   "source": [
    "# Creating object of ThunderBike???"
   ]
  },
  {
   "cell_type": "code",
   "execution_count": 27,
   "id": "e4b12a8c",
   "metadata": {},
   "outputs": [
    {
     "name": "stdout",
     "output_type": "stream",
     "text": [
      "Help on class ThunderBike in module __main__:\n",
      "\n",
      "class ThunderBike(Bike)\n",
      " |  ThunderBike(fuel_capacity, if_abs)\n",
      " |  \n",
      " |  Method resolution order:\n",
      " |      ThunderBike\n",
      " |      Bike\n",
      " |      builtins.object\n",
      " |  \n",
      " |  Methods defined here:\n",
      " |  \n",
      " |  __init__(self, fuel_capacity, if_abs)\n",
      " |      Initialize self.  See help(type(self)) for accurate signature.\n",
      " |  \n",
      " |  ----------------------------------------------------------------------\n",
      " |  Methods inherited from Bike:\n",
      " |  \n",
      " |  bike_details(self)\n",
      " |  \n",
      " |  ----------------------------------------------------------------------\n",
      " |  Data descriptors inherited from Bike:\n",
      " |  \n",
      " |  __dict__\n",
      " |      dictionary for instance variables (if defined)\n",
      " |  \n",
      " |  __weakref__\n",
      " |      list of weak references to the object (if defined)\n",
      " |  \n",
      " |  ----------------------------------------------------------------------\n",
      " |  Data and other attributes inherited from Bike:\n",
      " |  \n",
      " |  company = 'ABC Motors'\n",
      "\n"
     ]
    }
   ],
   "source": [
    "help(ThunderBike)"
   ]
  },
  {
   "cell_type": "code",
   "execution_count": 28,
   "id": "2206b421",
   "metadata": {},
   "outputs": [
    {
     "name": "stdout",
     "output_type": "stream",
     "text": [
      "init of ThunderBike\n"
     ]
    }
   ],
   "source": [
    "tb1 = ThunderBike(12, 'Yes')"
   ]
  },
  {
   "cell_type": "code",
   "execution_count": 29,
   "id": "f3243346",
   "metadata": {},
   "outputs": [
    {
     "data": {
      "text/plain": [
       "{'fuel_capacity': 12, 'if_abs': 'Yes'}"
      ]
     },
     "execution_count": 29,
     "metadata": {},
     "output_type": "execute_result"
    }
   ],
   "source": [
    "tb1.__dict__"
   ]
  },
  {
   "cell_type": "code",
   "execution_count": 30,
   "id": "cff01284",
   "metadata": {},
   "outputs": [
    {
     "ename": "AttributeError",
     "evalue": "'ThunderBike' object has no attribute 'mileage'",
     "output_type": "error",
     "traceback": [
      "\u001b[1;31m---------------------------------------------------------------------------\u001b[0m",
      "\u001b[1;31mAttributeError\u001b[0m                            Traceback (most recent call last)",
      "Cell \u001b[1;32mIn[30], line 1\u001b[0m\n\u001b[1;32m----> 1\u001b[0m tb1\u001b[38;5;241m.\u001b[39mmileage\n",
      "\u001b[1;31mAttributeError\u001b[0m: 'ThunderBike' object has no attribute 'mileage'"
     ]
    }
   ],
   "source": [
    "tb1.mileage"
   ]
  },
  {
   "cell_type": "code",
   "execution_count": 31,
   "id": "dfbba729",
   "metadata": {},
   "outputs": [],
   "source": [
    "# When there is __init__() method in the child class and parent also has its own __init__(),\n",
    "# when we create the object of the child class, __init__() of the parent will not get called automatically\n",
    "# __init__() of child class gets called"
   ]
  },
  {
   "cell_type": "code",
   "execution_count": 32,
   "id": "0c40c5b1",
   "metadata": {},
   "outputs": [],
   "source": [
    "# When the parent __init__() does not get called, the instance variables will NOT be initialized"
   ]
  },
  {
   "cell_type": "code",
   "execution_count": 33,
   "id": "9f1f9ac9",
   "metadata": {},
   "outputs": [],
   "source": [
    "# Again it is the responsibility of the child class to call the __init__() of the parent class explicitly"
   ]
  },
  {
   "cell_type": "code",
   "execution_count": 34,
   "id": "047a1d90",
   "metadata": {},
   "outputs": [],
   "source": [
    "# How do we make sure that __init__() of the parent is called in the child class??????"
   ]
  },
  {
   "cell_type": "code",
   "execution_count": null,
   "id": "7a611645",
   "metadata": {},
   "outputs": [],
   "source": []
  },
  {
   "cell_type": "code",
   "execution_count": 35,
   "id": "624a6386",
   "metadata": {},
   "outputs": [],
   "source": [
    "class ThunderBike(Bike):\n",
    "    \n",
    "    def __init__(self, fuel_capacity, if_abs):\n",
    "        print(\"init of ThunderBike\")\n",
    "        self.fuel_capacity = fuel_capacity\n",
    "        self.if_abs = if_abs\n",
    "        \n",
    "        # Call __init__() of parent here\n",
    "        Bike.__init__(self, mileage, engine_cc, brake_type)"
   ]
  },
  {
   "cell_type": "code",
   "execution_count": 36,
   "id": "d80e796a",
   "metadata": {},
   "outputs": [
    {
     "name": "stdout",
     "output_type": "stream",
     "text": [
      "init of ThunderBike\n"
     ]
    },
    {
     "ename": "NameError",
     "evalue": "name 'mileage' is not defined",
     "output_type": "error",
     "traceback": [
      "\u001b[1;31m---------------------------------------------------------------------------\u001b[0m",
      "\u001b[1;31mNameError\u001b[0m                                 Traceback (most recent call last)",
      "Cell \u001b[1;32mIn[36], line 1\u001b[0m\n\u001b[1;32m----> 1\u001b[0m tb1 \u001b[38;5;241m=\u001b[39m ThunderBike(\u001b[38;5;241m15\u001b[39m, \u001b[38;5;124m'\u001b[39m\u001b[38;5;124mYes\u001b[39m\u001b[38;5;124m'\u001b[39m)\n",
      "Cell \u001b[1;32mIn[35], line 9\u001b[0m, in \u001b[0;36mThunderBike.__init__\u001b[1;34m(self, fuel_capacity, if_abs)\u001b[0m\n\u001b[0;32m      6\u001b[0m \u001b[38;5;28mself\u001b[39m\u001b[38;5;241m.\u001b[39mif_abs \u001b[38;5;241m=\u001b[39m if_abs\n\u001b[0;32m      8\u001b[0m \u001b[38;5;66;03m# Call __init__() of parent here\u001b[39;00m\n\u001b[1;32m----> 9\u001b[0m Bike\u001b[38;5;241m.\u001b[39m\u001b[38;5;21m__init__\u001b[39m(\u001b[38;5;28mself\u001b[39m, mileage, engine_cc, brake_type)\n",
      "\u001b[1;31mNameError\u001b[0m: name 'mileage' is not defined"
     ]
    }
   ],
   "source": [
    "tb1 = ThunderBike(15, 'Yes')"
   ]
  },
  {
   "cell_type": "code",
   "execution_count": 37,
   "id": "ed9382e7",
   "metadata": {},
   "outputs": [],
   "source": [
    "class ThunderBike(Bike):\n",
    "    \n",
    "    def __init__(self, fuel_capacity, if_abs):\n",
    "        print(\"init of ThunderBike\")\n",
    "        self.fuel_capacity = fuel_capacity\n",
    "        self.if_abs = if_abs\n",
    "        \n",
    "        # Call __init__() of parent here\n",
    "        Bike.__init__(self, 30, 350, 'disc')"
   ]
  },
  {
   "cell_type": "code",
   "execution_count": 38,
   "id": "f288f33c",
   "metadata": {},
   "outputs": [
    {
     "name": "stdout",
     "output_type": "stream",
     "text": [
      "init of ThunderBike\n",
      "init of Bike class\n"
     ]
    }
   ],
   "source": [
    "tb1 = ThunderBike(15, 'Yes')"
   ]
  },
  {
   "cell_type": "code",
   "execution_count": 40,
   "id": "a96966db",
   "metadata": {},
   "outputs": [
    {
     "data": {
      "text/plain": [
       "{'fuel_capacity': 15,\n",
       " 'if_abs': 'Yes',\n",
       " 'mileage': 30,\n",
       " 'engine_cc': 350,\n",
       " 'brake_type': 'disc'}"
      ]
     },
     "execution_count": 40,
     "metadata": {},
     "output_type": "execute_result"
    }
   ],
   "source": [
    "tb1.__dict__"
   ]
  },
  {
   "cell_type": "code",
   "execution_count": null,
   "id": "e59d709d",
   "metadata": {},
   "outputs": [],
   "source": []
  },
  {
   "cell_type": "code",
   "execution_count": 41,
   "id": "bbb48f6f",
   "metadata": {},
   "outputs": [],
   "source": [
    "def greet(name):\n",
    "    return f\"Good evening {name}\""
   ]
  },
  {
   "cell_type": "code",
   "execution_count": 42,
   "id": "c32dfdf9",
   "metadata": {},
   "outputs": [
    {
     "data": {
      "text/plain": [
       "'Good evening John'"
      ]
     },
     "execution_count": 42,
     "metadata": {},
     "output_type": "execute_result"
    }
   ],
   "source": [
    "greet(\"John\")"
   ]
  },
  {
   "cell_type": "code",
   "execution_count": 43,
   "id": "f409f108",
   "metadata": {},
   "outputs": [],
   "source": [
    "n1 = 'John'"
   ]
  },
  {
   "cell_type": "code",
   "execution_count": 44,
   "id": "7d62e2be",
   "metadata": {},
   "outputs": [
    {
     "data": {
      "text/plain": [
       "'Good evening John'"
      ]
     },
     "execution_count": 44,
     "metadata": {},
     "output_type": "execute_result"
    }
   ],
   "source": [
    "greet(n1)"
   ]
  },
  {
   "cell_type": "code",
   "execution_count": null,
   "id": "204578ef",
   "metadata": {},
   "outputs": [],
   "source": []
  },
  {
   "cell_type": "code",
   "execution_count": 45,
   "id": "8aafd325",
   "metadata": {},
   "outputs": [
    {
     "name": "stdout",
     "output_type": "stream",
     "text": [
      "init of ThunderBike\n",
      "init of Bike class\n"
     ]
    }
   ],
   "source": [
    "tb2 = ThunderBike(10, 'No')"
   ]
  },
  {
   "cell_type": "code",
   "execution_count": 46,
   "id": "04c8909c",
   "metadata": {},
   "outputs": [
    {
     "data": {
      "text/plain": [
       "{'fuel_capacity': 10,\n",
       " 'if_abs': 'No',\n",
       " 'mileage': 30,\n",
       " 'engine_cc': 350,\n",
       " 'brake_type': 'disc'}"
      ]
     },
     "execution_count": 46,
     "metadata": {},
     "output_type": "execute_result"
    }
   ],
   "source": [
    "tb2.__dict__"
   ]
  },
  {
   "cell_type": "code",
   "execution_count": 47,
   "id": "1aa56bad",
   "metadata": {},
   "outputs": [
    {
     "data": {
      "text/plain": [
       "{'fuel_capacity': 15,\n",
       " 'if_abs': 'Yes',\n",
       " 'mileage': 30,\n",
       " 'engine_cc': 350,\n",
       " 'brake_type': 'disc'}"
      ]
     },
     "execution_count": 47,
     "metadata": {},
     "output_type": "execute_result"
    }
   ],
   "source": [
    "tb1.__dict__"
   ]
  },
  {
   "cell_type": "code",
   "execution_count": null,
   "id": "2159c955",
   "metadata": {},
   "outputs": [],
   "source": []
  },
  {
   "cell_type": "code",
   "execution_count": 48,
   "id": "a08d2bed",
   "metadata": {},
   "outputs": [],
   "source": [
    "class ThunderBike(Bike):\n",
    "    \n",
    "    def __init__(self, fuel_capacity, if_abs, mil, engine, brake):\n",
    "        print(\"init of ThunderBike\")\n",
    "        self.fuel_capacity = fuel_capacity\n",
    "        self.if_abs = if_abs\n",
    "        \n",
    "        # Call __init__() of parent here\n",
    "        Bike.__init__(self, mil, engine, brake)"
   ]
  },
  {
   "cell_type": "code",
   "execution_count": 49,
   "id": "44181fb0",
   "metadata": {},
   "outputs": [
    {
     "name": "stdout",
     "output_type": "stream",
     "text": [
      "init of ThunderBike\n",
      "init of Bike class\n"
     ]
    }
   ],
   "source": [
    "tb1 = ThunderBike(15, 'Yes', 30, 350, 'disc')"
   ]
  },
  {
   "cell_type": "code",
   "execution_count": 50,
   "id": "87fe75d5",
   "metadata": {},
   "outputs": [
    {
     "name": "stdout",
     "output_type": "stream",
     "text": [
      "init of ThunderBike\n",
      "init of Bike class\n"
     ]
    }
   ],
   "source": [
    "tb2 = ThunderBike(10, 'No', 40, 150, 'v-type')"
   ]
  },
  {
   "cell_type": "code",
   "execution_count": 51,
   "id": "4a310efb",
   "metadata": {},
   "outputs": [
    {
     "ename": "TypeError",
     "evalue": "ThunderBike.__init__() missing 1 required positional argument: 'brake'",
     "output_type": "error",
     "traceback": [
      "\u001b[1;31m---------------------------------------------------------------------------\u001b[0m",
      "\u001b[1;31mTypeError\u001b[0m                                 Traceback (most recent call last)",
      "Cell \u001b[1;32mIn[51], line 1\u001b[0m\n\u001b[1;32m----> 1\u001b[0m tb3 \u001b[38;5;241m=\u001b[39m ThunderBike(\u001b[38;5;241m10\u001b[39m, \u001b[38;5;124m'\u001b[39m\u001b[38;5;124mNo\u001b[39m\u001b[38;5;124m'\u001b[39m, \u001b[38;5;241m40\u001b[39m, \u001b[38;5;241m150\u001b[39m)\n",
      "\u001b[1;31mTypeError\u001b[0m: ThunderBike.__init__() missing 1 required positional argument: 'brake'"
     ]
    }
   ],
   "source": [
    "tb3 = ThunderBike(10, 'No', 40, 150)"
   ]
  },
  {
   "cell_type": "code",
   "execution_count": 52,
   "id": "676bba23",
   "metadata": {},
   "outputs": [
    {
     "name": "stdout",
     "output_type": "stream",
     "text": [
      "Help on class Bike in module __main__:\n",
      "\n",
      "class Bike(builtins.object)\n",
      " |  Bike(mileage, engine_cc, brake_type)\n",
      " |  \n",
      " |  Methods defined here:\n",
      " |  \n",
      " |  __init__(self, mileage, engine_cc, brake_type)\n",
      " |      Initialize self.  See help(type(self)) for accurate signature.\n",
      " |  \n",
      " |  bike_details(self)\n",
      " |  \n",
      " |  ----------------------------------------------------------------------\n",
      " |  Data descriptors defined here:\n",
      " |  \n",
      " |  __dict__\n",
      " |      dictionary for instance variables (if defined)\n",
      " |  \n",
      " |  __weakref__\n",
      " |      list of weak references to the object (if defined)\n",
      " |  \n",
      " |  ----------------------------------------------------------------------\n",
      " |  Data and other attributes defined here:\n",
      " |  \n",
      " |  company = 'ABC Motors'\n",
      "\n"
     ]
    }
   ],
   "source": [
    "help(Bike)"
   ]
  },
  {
   "cell_type": "code",
   "execution_count": 53,
   "id": "fb176267",
   "metadata": {},
   "outputs": [
    {
     "data": {
      "text/plain": [
       "{'fuel_capacity': 15,\n",
       " 'if_abs': 'Yes',\n",
       " 'mileage': 30,\n",
       " 'engine_cc': 350,\n",
       " 'brake_type': 'disc'}"
      ]
     },
     "execution_count": 53,
     "metadata": {},
     "output_type": "execute_result"
    }
   ],
   "source": [
    "tb1.__dict__"
   ]
  },
  {
   "cell_type": "code",
   "execution_count": 54,
   "id": "3f9c1ba0",
   "metadata": {},
   "outputs": [
    {
     "data": {
      "text/plain": [
       "{'fuel_capacity': 10,\n",
       " 'if_abs': 'No',\n",
       " 'mileage': 40,\n",
       " 'engine_cc': 150,\n",
       " 'brake_type': 'v-type'}"
      ]
     },
     "execution_count": 54,
     "metadata": {},
     "output_type": "execute_result"
    }
   ],
   "source": [
    "tb2.__dict__"
   ]
  },
  {
   "cell_type": "code",
   "execution_count": 55,
   "id": "f1a6033a",
   "metadata": {},
   "outputs": [
    {
     "data": {
      "text/plain": [
       "30"
      ]
     },
     "execution_count": 55,
     "metadata": {},
     "output_type": "execute_result"
    }
   ],
   "source": [
    "tb1.mileage"
   ]
  },
  {
   "cell_type": "code",
   "execution_count": 56,
   "id": "2b518777",
   "metadata": {},
   "outputs": [
    {
     "data": {
      "text/plain": [
       "40"
      ]
     },
     "execution_count": 56,
     "metadata": {},
     "output_type": "execute_result"
    }
   ],
   "source": [
    "tb2.mileage"
   ]
  },
  {
   "cell_type": "code",
   "execution_count": 57,
   "id": "4027038e",
   "metadata": {},
   "outputs": [
    {
     "name": "stdout",
     "output_type": "stream",
     "text": [
      "Help on class ThunderBike in module __main__:\n",
      "\n",
      "class ThunderBike(Bike)\n",
      " |  ThunderBike(fuel_capacity, if_abs, mil, engine, brake)\n",
      " |  \n",
      " |  Method resolution order:\n",
      " |      ThunderBike\n",
      " |      Bike\n",
      " |      builtins.object\n",
      " |  \n",
      " |  Methods defined here:\n",
      " |  \n",
      " |  __init__(self, fuel_capacity, if_abs, mil, engine, brake)\n",
      " |      Initialize self.  See help(type(self)) for accurate signature.\n",
      " |  \n",
      " |  ----------------------------------------------------------------------\n",
      " |  Methods inherited from Bike:\n",
      " |  \n",
      " |  bike_details(self)\n",
      " |  \n",
      " |  ----------------------------------------------------------------------\n",
      " |  Data descriptors inherited from Bike:\n",
      " |  \n",
      " |  __dict__\n",
      " |      dictionary for instance variables (if defined)\n",
      " |  \n",
      " |  __weakref__\n",
      " |      list of weak references to the object (if defined)\n",
      " |  \n",
      " |  ----------------------------------------------------------------------\n",
      " |  Data and other attributes inherited from Bike:\n",
      " |  \n",
      " |  company = 'ABC Motors'\n",
      "\n"
     ]
    }
   ],
   "source": [
    "help(ThunderBike)"
   ]
  },
  {
   "cell_type": "code",
   "execution_count": null,
   "id": "c392fdce",
   "metadata": {},
   "outputs": [],
   "source": []
  },
  {
   "cell_type": "code",
   "execution_count": 58,
   "id": "13e83cfd",
   "metadata": {},
   "outputs": [],
   "source": [
    "class ThunderBike(Bike):\n",
    "    \n",
    "    def __init__(self, fuel_capacity, if_abs, mil, engine, brake):\n",
    "        print(\"init of ThunderBike\")\n",
    "        self.fuel_capacity = fuel_capacity\n",
    "        self.if_abs = if_abs\n",
    "        \n",
    "        # Call __init__() of parent here\n",
    "        Bike.__init__(self, mil, engine, brake)\n",
    "        \n",
    "    def get_details(self):\n",
    "        print(self.bike_details())\n",
    "        print(f\"The bike has a fuel capacity of {self.fuel_capacity} and ABS is {self.if_abs}\")"
   ]
  },
  {
   "cell_type": "code",
   "execution_count": 59,
   "id": "1dbedb63",
   "metadata": {},
   "outputs": [
    {
     "name": "stdout",
     "output_type": "stream",
     "text": [
      "init of ThunderBike\n",
      "init of Bike class\n"
     ]
    }
   ],
   "source": [
    "tb1 = ThunderBike(15, 'Yes', 30, 350, 'disc')"
   ]
  },
  {
   "cell_type": "code",
   "execution_count": 60,
   "id": "7f6028bf",
   "metadata": {},
   "outputs": [
    {
     "name": "stdout",
     "output_type": "stream",
     "text": [
      "The bike has 350 cc engine, a mileage of 30 and disc brakes\n",
      "The bike has a fuel capacity of 15 and ABS is Yes\n"
     ]
    }
   ],
   "source": [
    "tb1.get_details()"
   ]
  },
  {
   "cell_type": "code",
   "execution_count": null,
   "id": "ec6e3955",
   "metadata": {},
   "outputs": [],
   "source": []
  },
  {
   "cell_type": "code",
   "execution_count": 61,
   "id": "9d8463b0",
   "metadata": {},
   "outputs": [
    {
     "data": {
      "text/plain": [
       "'The bike has 350 cc engine, a mileage of 30 and disc brakes'"
      ]
     },
     "execution_count": 61,
     "metadata": {},
     "output_type": "execute_result"
    }
   ],
   "source": [
    "tb1.bike_details()"
   ]
  },
  {
   "cell_type": "code",
   "execution_count": null,
   "id": "bd50774f",
   "metadata": {},
   "outputs": [],
   "source": []
  },
  {
   "cell_type": "code",
   "execution_count": 62,
   "id": "3df6c182",
   "metadata": {},
   "outputs": [],
   "source": [
    "# Multiple inheritance\n",
    "# When a class inherits from 2 or more classes"
   ]
  },
  {
   "cell_type": "code",
   "execution_count": 67,
   "id": "4cad2f91",
   "metadata": {},
   "outputs": [],
   "source": [
    "class Color:\n",
    "    def __init__(self, color):\n",
    "        print(\"init of Color\")\n",
    "        self.color = color\n",
    "        \n",
    "    def get_color(self):\n",
    "        return f\"Every color is beautiful, but I am {self.color}\""
   ]
  },
  {
   "cell_type": "code",
   "execution_count": 65,
   "id": "f4d09ecf",
   "metadata": {},
   "outputs": [],
   "source": [
    "col1 = Color('Black')"
   ]
  },
  {
   "cell_type": "code",
   "execution_count": 66,
   "id": "d2d408c6",
   "metadata": {},
   "outputs": [
    {
     "data": {
      "text/plain": [
       "'Every color is beautiful, but I am Black'"
      ]
     },
     "execution_count": 66,
     "metadata": {},
     "output_type": "execute_result"
    }
   ],
   "source": [
    "col1.get_color()"
   ]
  },
  {
   "cell_type": "code",
   "execution_count": null,
   "id": "e5d9461a",
   "metadata": {},
   "outputs": [],
   "source": []
  },
  {
   "cell_type": "code",
   "execution_count": 68,
   "id": "e22accf1",
   "metadata": {},
   "outputs": [],
   "source": [
    "class ThunderBike(Bike, Color):\n",
    "    \n",
    "    def __init__(self, fuel_capacity, if_abs, mil, engine, brake, col):\n",
    "        print(\"init of ThunderBike\")\n",
    "        self.fuel_capacity = fuel_capacity\n",
    "        self.if_abs = if_abs\n",
    "        \n",
    "        # Initialize Bike class\n",
    "        Bike.__init__(self, mil, engine, brake)\n",
    "        \n",
    "        # Initialize Color class\n",
    "        Color.__init__(self, col)\n",
    "        \n",
    "    def get_details(self):\n",
    "        print(self.bike_details())\n",
    "        print(f\"The bike has a fuel capacity of {self.fuel_capacity} and ABS is {self.if_abs}\")\n",
    "        print(self.get_color())"
   ]
  },
  {
   "cell_type": "code",
   "execution_count": 69,
   "id": "4835a6a8",
   "metadata": {},
   "outputs": [
    {
     "name": "stdout",
     "output_type": "stream",
     "text": [
      "init of ThunderBike\n",
      "init of Bike class\n",
      "init of Color\n"
     ]
    }
   ],
   "source": [
    "tb1 = ThunderBike(15, 'Yes', 30, 350, 'disc', 'Green')"
   ]
  },
  {
   "cell_type": "code",
   "execution_count": 70,
   "id": "44c8a35d",
   "metadata": {},
   "outputs": [
    {
     "data": {
      "text/plain": [
       "{'fuel_capacity': 15,\n",
       " 'if_abs': 'Yes',\n",
       " 'mileage': 30,\n",
       " 'engine_cc': 350,\n",
       " 'brake_type': 'disc',\n",
       " 'color': 'Green'}"
      ]
     },
     "execution_count": 70,
     "metadata": {},
     "output_type": "execute_result"
    }
   ],
   "source": [
    "tb1.__dict__"
   ]
  },
  {
   "cell_type": "code",
   "execution_count": 71,
   "id": "8461e9f6",
   "metadata": {},
   "outputs": [
    {
     "data": {
      "text/plain": [
       "'Every color is beautiful, but I am Green'"
      ]
     },
     "execution_count": 71,
     "metadata": {},
     "output_type": "execute_result"
    }
   ],
   "source": [
    "tb1.get_color()"
   ]
  },
  {
   "cell_type": "code",
   "execution_count": 72,
   "id": "0e3e4c5a",
   "metadata": {},
   "outputs": [
    {
     "name": "stdout",
     "output_type": "stream",
     "text": [
      "The bike has 350 cc engine, a mileage of 30 and disc brakes\n",
      "The bike has a fuel capacity of 15 and ABS is Yes\n",
      "Every color is beautiful, but I am Green\n"
     ]
    }
   ],
   "source": [
    "tb1.get_details()"
   ]
  },
  {
   "cell_type": "code",
   "execution_count": 73,
   "id": "e601eca5",
   "metadata": {},
   "outputs": [
    {
     "name": "stdout",
     "output_type": "stream",
     "text": [
      "Help on class ThunderBike in module __main__:\n",
      "\n",
      "class ThunderBike(Bike, Color)\n",
      " |  ThunderBike(fuel_capacity, if_abs, mil, engine, brake, col)\n",
      " |  \n",
      " |  Method resolution order:\n",
      " |      ThunderBike\n",
      " |      Bike\n",
      " |      Color\n",
      " |      builtins.object\n",
      " |  \n",
      " |  Methods defined here:\n",
      " |  \n",
      " |  __init__(self, fuel_capacity, if_abs, mil, engine, brake, col)\n",
      " |      Initialize self.  See help(type(self)) for accurate signature.\n",
      " |  \n",
      " |  get_details(self)\n",
      " |  \n",
      " |  ----------------------------------------------------------------------\n",
      " |  Methods inherited from Bike:\n",
      " |  \n",
      " |  bike_details(self)\n",
      " |  \n",
      " |  ----------------------------------------------------------------------\n",
      " |  Data descriptors inherited from Bike:\n",
      " |  \n",
      " |  __dict__\n",
      " |      dictionary for instance variables (if defined)\n",
      " |  \n",
      " |  __weakref__\n",
      " |      list of weak references to the object (if defined)\n",
      " |  \n",
      " |  ----------------------------------------------------------------------\n",
      " |  Data and other attributes inherited from Bike:\n",
      " |  \n",
      " |  company = 'ABC Motors'\n",
      " |  \n",
      " |  ----------------------------------------------------------------------\n",
      " |  Methods inherited from Color:\n",
      " |  \n",
      " |  get_color(self)\n",
      "\n"
     ]
    }
   ],
   "source": [
    "help(ThunderBike)"
   ]
  },
  {
   "cell_type": "code",
   "execution_count": null,
   "id": "c71e4b23",
   "metadata": {},
   "outputs": [],
   "source": []
  },
  {
   "cell_type": "code",
   "execution_count": 74,
   "id": "b7ea819d",
   "metadata": {},
   "outputs": [],
   "source": [
    "# Multilevel inheritance "
   ]
  },
  {
   "cell_type": "code",
   "execution_count": 75,
   "id": "96bce815",
   "metadata": {},
   "outputs": [],
   "source": [
    "# A -> B -> C"
   ]
  },
  {
   "cell_type": "code",
   "execution_count": 76,
   "id": "7d8aaa83",
   "metadata": {},
   "outputs": [],
   "source": [
    "class Company:\n",
    "    company_name = 'ABC corp'"
   ]
  },
  {
   "cell_type": "code",
   "execution_count": 77,
   "id": "543b10ed",
   "metadata": {},
   "outputs": [],
   "source": [
    "class Department(Company):\n",
    "    depart_name = 'IT'"
   ]
  },
  {
   "cell_type": "code",
   "execution_count": 78,
   "id": "0746259a",
   "metadata": {},
   "outputs": [],
   "source": [
    "d1 = Department()"
   ]
  },
  {
   "cell_type": "code",
   "execution_count": 79,
   "id": "61568e8d",
   "metadata": {},
   "outputs": [
    {
     "data": {
      "text/plain": [
       "'ABC corp'"
      ]
     },
     "execution_count": 79,
     "metadata": {},
     "output_type": "execute_result"
    }
   ],
   "source": [
    "d1.company_name"
   ]
  },
  {
   "cell_type": "code",
   "execution_count": 80,
   "id": "34742ecd",
   "metadata": {},
   "outputs": [
    {
     "data": {
      "text/plain": [
       "'IT'"
      ]
     },
     "execution_count": 80,
     "metadata": {},
     "output_type": "execute_result"
    }
   ],
   "source": [
    "d1.depart_name"
   ]
  },
  {
   "cell_type": "code",
   "execution_count": 82,
   "id": "bb7cdf3c",
   "metadata": {},
   "outputs": [],
   "source": [
    "class Employee(Department):\n",
    "    def __init__(self, empid, empname, empsal):\n",
    "        self.empid=empid\n",
    "        self.empname=empname\n",
    "        self.empsal = empsal\n",
    "        \n",
    "    def get_details(self):\n",
    "        return f\"{self.empname} works in {self.depart_name} for {self.company_name}\""
   ]
  },
  {
   "cell_type": "code",
   "execution_count": 83,
   "id": "79122f41",
   "metadata": {},
   "outputs": [],
   "source": [
    "emp1 = Employee(101, 'John', 30000)"
   ]
  },
  {
   "cell_type": "code",
   "execution_count": 84,
   "id": "b0d16b6c",
   "metadata": {},
   "outputs": [
    {
     "data": {
      "text/plain": [
       "'John works in IT for ABC corp'"
      ]
     },
     "execution_count": 84,
     "metadata": {},
     "output_type": "execute_result"
    }
   ],
   "source": [
    "emp1.get_details()"
   ]
  },
  {
   "cell_type": "code",
   "execution_count": 85,
   "id": "6df89877",
   "metadata": {},
   "outputs": [
    {
     "data": {
      "text/plain": [
       "'IT'"
      ]
     },
     "execution_count": 85,
     "metadata": {},
     "output_type": "execute_result"
    }
   ],
   "source": [
    "emp1.depart_name"
   ]
  },
  {
   "cell_type": "code",
   "execution_count": 86,
   "id": "09ed4f42",
   "metadata": {},
   "outputs": [
    {
     "data": {
      "text/plain": [
       "'ABC corp'"
      ]
     },
     "execution_count": 86,
     "metadata": {},
     "output_type": "execute_result"
    }
   ],
   "source": [
    "Employee.company_name"
   ]
  },
  {
   "cell_type": "code",
   "execution_count": 87,
   "id": "6463aa02",
   "metadata": {},
   "outputs": [
    {
     "name": "stdout",
     "output_type": "stream",
     "text": [
      "Help on class Employee in module __main__:\n",
      "\n",
      "class Employee(Department)\n",
      " |  Employee(empid, empname, empsal)\n",
      " |  \n",
      " |  Method resolution order:\n",
      " |      Employee\n",
      " |      Department\n",
      " |      Company\n",
      " |      builtins.object\n",
      " |  \n",
      " |  Methods defined here:\n",
      " |  \n",
      " |  __init__(self, empid, empname, empsal)\n",
      " |      Initialize self.  See help(type(self)) for accurate signature.\n",
      " |  \n",
      " |  get_details(self)\n",
      " |  \n",
      " |  ----------------------------------------------------------------------\n",
      " |  Data and other attributes inherited from Department:\n",
      " |  \n",
      " |  depart_name = 'IT'\n",
      " |  \n",
      " |  ----------------------------------------------------------------------\n",
      " |  Data descriptors inherited from Company:\n",
      " |  \n",
      " |  __dict__\n",
      " |      dictionary for instance variables (if defined)\n",
      " |  \n",
      " |  __weakref__\n",
      " |      list of weak references to the object (if defined)\n",
      " |  \n",
      " |  ----------------------------------------------------------------------\n",
      " |  Data and other attributes inherited from Company:\n",
      " |  \n",
      " |  company_name = 'ABC corp'\n",
      "\n"
     ]
    }
   ],
   "source": [
    "help(Employee)"
   ]
  },
  {
   "cell_type": "code",
   "execution_count": null,
   "id": "38d99f3e",
   "metadata": {},
   "outputs": [],
   "source": []
  },
  {
   "cell_type": "code",
   "execution_count": 88,
   "id": "ab0495c3",
   "metadata": {},
   "outputs": [],
   "source": [
    "# MRO => Method Resolution Order\n",
    "# The order in which the methods are resolved/ called"
   ]
  },
  {
   "cell_type": "code",
   "execution_count": 89,
   "id": "f853cd80",
   "metadata": {},
   "outputs": [
    {
     "name": "stdout",
     "output_type": "stream",
     "text": [
      "Help on class ThunderBike in module __main__:\n",
      "\n",
      "class ThunderBike(Bike, Color)\n",
      " |  ThunderBike(fuel_capacity, if_abs, mil, engine, brake, col)\n",
      " |  \n",
      " |  Method resolution order:\n",
      " |      ThunderBike\n",
      " |      Bike\n",
      " |      Color\n",
      " |      builtins.object\n",
      " |  \n",
      " |  Methods defined here:\n",
      " |  \n",
      " |  __init__(self, fuel_capacity, if_abs, mil, engine, brake, col)\n",
      " |      Initialize self.  See help(type(self)) for accurate signature.\n",
      " |  \n",
      " |  get_details(self)\n",
      " |  \n",
      " |  ----------------------------------------------------------------------\n",
      " |  Methods inherited from Bike:\n",
      " |  \n",
      " |  bike_details(self)\n",
      " |  \n",
      " |  ----------------------------------------------------------------------\n",
      " |  Data descriptors inherited from Bike:\n",
      " |  \n",
      " |  __dict__\n",
      " |      dictionary for instance variables (if defined)\n",
      " |  \n",
      " |  __weakref__\n",
      " |      list of weak references to the object (if defined)\n",
      " |  \n",
      " |  ----------------------------------------------------------------------\n",
      " |  Data and other attributes inherited from Bike:\n",
      " |  \n",
      " |  company = 'ABC Motors'\n",
      " |  \n",
      " |  ----------------------------------------------------------------------\n",
      " |  Methods inherited from Color:\n",
      " |  \n",
      " |  get_color(self)\n",
      "\n"
     ]
    }
   ],
   "source": [
    "help(ThunderBike)"
   ]
  },
  {
   "cell_type": "code",
   "execution_count": 90,
   "id": "ef6f4912",
   "metadata": {},
   "outputs": [
    {
     "data": {
      "text/plain": [
       "<__main__.ThunderBike at 0x1470e0877d0>"
      ]
     },
     "execution_count": 90,
     "metadata": {},
     "output_type": "execute_result"
    }
   ],
   "source": [
    "tb1"
   ]
  },
  {
   "cell_type": "code",
   "execution_count": 91,
   "id": "d99115f1",
   "metadata": {},
   "outputs": [
    {
     "data": {
      "text/plain": [
       "'The bike has 350 cc engine, a mileage of 30 and disc brakes'"
      ]
     },
     "execution_count": 91,
     "metadata": {},
     "output_type": "execute_result"
    }
   ],
   "source": [
    "tb1.bike_details()"
   ]
  },
  {
   "cell_type": "code",
   "execution_count": 92,
   "id": "86c5e022",
   "metadata": {},
   "outputs": [
    {
     "data": {
      "text/plain": [
       "(__main__.ThunderBike, __main__.Bike, __main__.Color, object)"
      ]
     },
     "execution_count": 92,
     "metadata": {},
     "output_type": "execute_result"
    }
   ],
   "source": [
    "ThunderBike.__mro__"
   ]
  },
  {
   "cell_type": "code",
   "execution_count": null,
   "id": "08eceb38",
   "metadata": {},
   "outputs": [],
   "source": []
  },
  {
   "cell_type": "code",
   "execution_count": 93,
   "id": "479f5ccd",
   "metadata": {},
   "outputs": [],
   "source": [
    "class A:\n",
    "    def m1(self):\n",
    "        print(\"In class A\")\n",
    "        \n",
    "class B(A):\n",
    "    def m1(self):\n",
    "        print(\"In class B\")"
   ]
  },
  {
   "cell_type": "code",
   "execution_count": 94,
   "id": "7723495f",
   "metadata": {},
   "outputs": [],
   "source": [
    "class C(B):\n",
    "    pass"
   ]
  },
  {
   "cell_type": "code",
   "execution_count": 95,
   "id": "67e7d2f1",
   "metadata": {},
   "outputs": [],
   "source": [
    "obj = C()"
   ]
  },
  {
   "cell_type": "code",
   "execution_count": 96,
   "id": "55d6f227",
   "metadata": {},
   "outputs": [
    {
     "name": "stdout",
     "output_type": "stream",
     "text": [
      "In class B\n"
     ]
    }
   ],
   "source": [
    "obj.m1()"
   ]
  },
  {
   "cell_type": "code",
   "execution_count": 97,
   "id": "bc6bde4e",
   "metadata": {},
   "outputs": [
    {
     "data": {
      "text/plain": [
       "(__main__.C, __main__.B, __main__.A, object)"
      ]
     },
     "execution_count": 97,
     "metadata": {},
     "output_type": "execute_result"
    }
   ],
   "source": [
    "C.__mro__"
   ]
  },
  {
   "cell_type": "code",
   "execution_count": 98,
   "id": "8650c117",
   "metadata": {},
   "outputs": [
    {
     "name": "stdout",
     "output_type": "stream",
     "text": [
      "Help on class C in module __main__:\n",
      "\n",
      "class C(B)\n",
      " |  Method resolution order:\n",
      " |      C\n",
      " |      B\n",
      " |      A\n",
      " |      builtins.object\n",
      " |  \n",
      " |  Methods inherited from B:\n",
      " |  \n",
      " |  m1(self)\n",
      " |  \n",
      " |  ----------------------------------------------------------------------\n",
      " |  Data descriptors inherited from A:\n",
      " |  \n",
      " |  __dict__\n",
      " |      dictionary for instance variables (if defined)\n",
      " |  \n",
      " |  __weakref__\n",
      " |      list of weak references to the object (if defined)\n",
      "\n"
     ]
    }
   ],
   "source": [
    "help(C)"
   ]
  },
  {
   "cell_type": "code",
   "execution_count": 99,
   "id": "0f4d6394",
   "metadata": {},
   "outputs": [
    {
     "name": "stdout",
     "output_type": "stream",
     "text": [
      "Help on class ThunderBike in module __main__:\n",
      "\n",
      "class ThunderBike(Bike, Color)\n",
      " |  ThunderBike(fuel_capacity, if_abs, mil, engine, brake, col)\n",
      " |  \n",
      " |  Method resolution order:\n",
      " |      ThunderBike\n",
      " |      Bike\n",
      " |      Color\n",
      " |      builtins.object\n",
      " |  \n",
      " |  Methods defined here:\n",
      " |  \n",
      " |  __init__(self, fuel_capacity, if_abs, mil, engine, brake, col)\n",
      " |      Initialize self.  See help(type(self)) for accurate signature.\n",
      " |  \n",
      " |  get_details(self)\n",
      " |  \n",
      " |  ----------------------------------------------------------------------\n",
      " |  Methods inherited from Bike:\n",
      " |  \n",
      " |  bike_details(self)\n",
      " |  \n",
      " |  ----------------------------------------------------------------------\n",
      " |  Data descriptors inherited from Bike:\n",
      " |  \n",
      " |  __dict__\n",
      " |      dictionary for instance variables (if defined)\n",
      " |  \n",
      " |  __weakref__\n",
      " |      list of weak references to the object (if defined)\n",
      " |  \n",
      " |  ----------------------------------------------------------------------\n",
      " |  Data and other attributes inherited from Bike:\n",
      " |  \n",
      " |  company = 'ABC Motors'\n",
      " |  \n",
      " |  ----------------------------------------------------------------------\n",
      " |  Methods inherited from Color:\n",
      " |  \n",
      " |  get_color(self)\n",
      "\n"
     ]
    }
   ],
   "source": [
    "help(ThunderBike)"
   ]
  },
  {
   "cell_type": "code",
   "execution_count": 100,
   "id": "67667630",
   "metadata": {},
   "outputs": [],
   "source": [
    "class A:\n",
    "    def m1(self):\n",
    "        print(\"In class A\")\n",
    "        \n",
    "class B:\n",
    "    def m1(self):\n",
    "        print(\"In class B\")"
   ]
  },
  {
   "cell_type": "code",
   "execution_count": 101,
   "id": "1c0175aa",
   "metadata": {},
   "outputs": [],
   "source": [
    "class C(B, A):\n",
    "    pass"
   ]
  },
  {
   "cell_type": "code",
   "execution_count": 102,
   "id": "85b30722",
   "metadata": {},
   "outputs": [
    {
     "data": {
      "text/plain": [
       "(__main__.C, __main__.B, __main__.A, object)"
      ]
     },
     "execution_count": 102,
     "metadata": {},
     "output_type": "execute_result"
    }
   ],
   "source": [
    "C.__mro__"
   ]
  },
  {
   "cell_type": "code",
   "execution_count": 103,
   "id": "7af3dd01",
   "metadata": {},
   "outputs": [],
   "source": [
    "obj = C()"
   ]
  },
  {
   "cell_type": "code",
   "execution_count": 104,
   "id": "1fe96d62",
   "metadata": {},
   "outputs": [
    {
     "name": "stdout",
     "output_type": "stream",
     "text": [
      "In class B\n"
     ]
    }
   ],
   "source": [
    "obj.m1()"
   ]
  },
  {
   "cell_type": "code",
   "execution_count": 105,
   "id": "196cd6f4",
   "metadata": {},
   "outputs": [],
   "source": [
    "class C(A, B):\n",
    "    pass"
   ]
  },
  {
   "cell_type": "code",
   "execution_count": 106,
   "id": "84811c09",
   "metadata": {},
   "outputs": [
    {
     "data": {
      "text/plain": [
       "(__main__.C, __main__.A, __main__.B, object)"
      ]
     },
     "execution_count": 106,
     "metadata": {},
     "output_type": "execute_result"
    }
   ],
   "source": [
    "C.__mro__"
   ]
  },
  {
   "cell_type": "code",
   "execution_count": 107,
   "id": "b2e0c23a",
   "metadata": {},
   "outputs": [],
   "source": [
    "obj = C()"
   ]
  },
  {
   "cell_type": "code",
   "execution_count": 108,
   "id": "d43b240a",
   "metadata": {},
   "outputs": [
    {
     "name": "stdout",
     "output_type": "stream",
     "text": [
      "In class A\n"
     ]
    }
   ],
   "source": [
    "obj.m1()"
   ]
  },
  {
   "cell_type": "code",
   "execution_count": null,
   "id": "11be4437",
   "metadata": {},
   "outputs": [],
   "source": []
  },
  {
   "cell_type": "code",
   "execution_count": null,
   "id": "66d5f08c",
   "metadata": {},
   "outputs": [],
   "source": []
  }
 ],
 "metadata": {
  "kernelspec": {
   "display_name": "Python 3 (ipykernel)",
   "language": "python",
   "name": "python3"
  },
  "language_info": {
   "codemirror_mode": {
    "name": "ipython",
    "version": 3
   },
   "file_extension": ".py",
   "mimetype": "text/x-python",
   "name": "python",
   "nbconvert_exporter": "python",
   "pygments_lexer": "ipython3",
   "version": "3.11.4"
  }
 },
 "nbformat": 4,
 "nbformat_minor": 5
}
