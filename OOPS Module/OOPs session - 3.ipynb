{
 "cells": [
  {
   "cell_type": "code",
   "execution_count": 1,
   "id": "ed614b27",
   "metadata": {},
   "outputs": [],
   "source": [
    "# Class variables"
   ]
  },
  {
   "cell_type": "code",
   "execution_count": 2,
   "id": "da140f20",
   "metadata": {},
   "outputs": [],
   "source": [
    "class Student:\n",
    "    \"\"\"\n",
    "    This class is for students.\n",
    "    It is used to manage information about the student of a college.\n",
    "    \"\"\"\n",
    "    \n",
    "    def __init__(self, name, roll_no, subject):\n",
    "        print(\"Calling the initializer of Student class\")\n",
    "        self.name = name\n",
    "        self.roll = roll_no\n",
    "        self.subject = subject\n",
    "    \n",
    "    def studying(self, hours):\n",
    "        print(self)\n",
    "        return f\"The student studies {hours} hours a day!!\""
   ]
  },
  {
   "cell_type": "code",
   "execution_count": 3,
   "id": "919f2da0",
   "metadata": {},
   "outputs": [
    {
     "name": "stdout",
     "output_type": "stream",
     "text": [
      "Help on class Student in module __main__:\n",
      "\n",
      "class Student(builtins.object)\n",
      " |  Student(name, roll_no, subject)\n",
      " |  \n",
      " |  This class is for students.\n",
      " |  It is used to manage information about the student of a college.\n",
      " |  \n",
      " |  Methods defined here:\n",
      " |  \n",
      " |  __init__(self, name, roll_no, subject)\n",
      " |      Initialize self.  See help(type(self)) for accurate signature.\n",
      " |  \n",
      " |  studying(self, hours)\n",
      " |  \n",
      " |  ----------------------------------------------------------------------\n",
      " |  Data descriptors defined here:\n",
      " |  \n",
      " |  __dict__\n",
      " |      dictionary for instance variables (if defined)\n",
      " |  \n",
      " |  __weakref__\n",
      " |      list of weak references to the object (if defined)\n",
      "\n"
     ]
    }
   ],
   "source": [
    "help(Student)"
   ]
  },
  {
   "cell_type": "code",
   "execution_count": null,
   "id": "6ed20350",
   "metadata": {},
   "outputs": [],
   "source": []
  },
  {
   "cell_type": "code",
   "execution_count": 4,
   "id": "2bc8db30",
   "metadata": {},
   "outputs": [
    {
     "name": "stdout",
     "output_type": "stream",
     "text": [
      "Calling the initializer of Student class\n"
     ]
    }
   ],
   "source": [
    "s1 = Student('John', 101, 'Maths')"
   ]
  },
  {
   "cell_type": "code",
   "execution_count": 5,
   "id": "eb457be1",
   "metadata": {},
   "outputs": [
    {
     "name": "stdout",
     "output_type": "stream",
     "text": [
      "Calling the initializer of Student class\n"
     ]
    }
   ],
   "source": [
    "s2 = Student('Jill', 102, 'Python')"
   ]
  },
  {
   "cell_type": "code",
   "execution_count": null,
   "id": "45f233ac",
   "metadata": {},
   "outputs": [],
   "source": []
  },
  {
   "cell_type": "code",
   "execution_count": 6,
   "id": "fbce153b",
   "metadata": {},
   "outputs": [],
   "source": [
    "s1.percent = 87"
   ]
  },
  {
   "cell_type": "code",
   "execution_count": 7,
   "id": "80a56f29",
   "metadata": {},
   "outputs": [],
   "source": [
    "s2.percent = 85"
   ]
  },
  {
   "cell_type": "code",
   "execution_count": 8,
   "id": "3dac594c",
   "metadata": {},
   "outputs": [
    {
     "data": {
      "text/plain": [
       "True"
      ]
     },
     "execution_count": 8,
     "metadata": {},
     "output_type": "execute_result"
    }
   ],
   "source": [
    "s1.percent > s2.percent"
   ]
  },
  {
   "cell_type": "code",
   "execution_count": null,
   "id": "e231011b",
   "metadata": {},
   "outputs": [],
   "source": []
  },
  {
   "cell_type": "code",
   "execution_count": 9,
   "id": "0d0f2883",
   "metadata": {},
   "outputs": [],
   "source": [
    "# Class variables are variables that are created/defined at the class level\n",
    "# Same copy of the class variable is shared among the objects"
   ]
  },
  {
   "cell_type": "code",
   "execution_count": 10,
   "id": "f8d59ed6",
   "metadata": {},
   "outputs": [],
   "source": [
    "class Student:\n",
    "    \"\"\"\n",
    "    This class is for students.\n",
    "    It is used to manage information about the student of a college.\n",
    "    \"\"\"\n",
    "    \n",
    "    college_name = \"ABC college\"\n",
    "    departments = ['Arts', 'Commerce', 'Science']\n",
    "    \n",
    "    def __init__(self, name, roll_no, subject):\n",
    "        print(\"Calling the initializer of Student class\")\n",
    "        self.name = name\n",
    "        self.roll = roll_no\n",
    "        self.subject = subject\n",
    "    \n",
    "    def studying(self, hours):\n",
    "        print(self)\n",
    "        return f\"The student studies {hours} hours a day!!\""
   ]
  },
  {
   "cell_type": "code",
   "execution_count": 11,
   "id": "e7eb99fd",
   "metadata": {},
   "outputs": [],
   "source": [
    "# Here, college_name and departments are class variables"
   ]
  },
  {
   "cell_type": "code",
   "execution_count": 12,
   "id": "240bb5f6",
   "metadata": {},
   "outputs": [
    {
     "name": "stdout",
     "output_type": "stream",
     "text": [
      "Help on class Student in module __main__:\n",
      "\n",
      "class Student(builtins.object)\n",
      " |  Student(name, roll_no, subject)\n",
      " |  \n",
      " |  This class is for students.\n",
      " |  It is used to manage information about the student of a college.\n",
      " |  \n",
      " |  Methods defined here:\n",
      " |  \n",
      " |  __init__(self, name, roll_no, subject)\n",
      " |      Initialize self.  See help(type(self)) for accurate signature.\n",
      " |  \n",
      " |  studying(self, hours)\n",
      " |  \n",
      " |  ----------------------------------------------------------------------\n",
      " |  Data descriptors defined here:\n",
      " |  \n",
      " |  __dict__\n",
      " |      dictionary for instance variables (if defined)\n",
      " |  \n",
      " |  __weakref__\n",
      " |      list of weak references to the object (if defined)\n",
      " |  \n",
      " |  ----------------------------------------------------------------------\n",
      " |  Data and other attributes defined here:\n",
      " |  \n",
      " |  college_name = 'ABC college'\n",
      " |  \n",
      " |  departments = ['Arts', 'Commerce', 'Science']\n",
      "\n"
     ]
    }
   ],
   "source": [
    "help(Student)"
   ]
  },
  {
   "cell_type": "code",
   "execution_count": 13,
   "id": "1fe6a30a",
   "metadata": {},
   "outputs": [
    {
     "data": {
      "text/plain": [
       "mappingproxy({'__module__': '__main__',\n",
       "              '__doc__': '\\n    This class is for students.\\n    It is used to manage information about the student of a college.\\n    ',\n",
       "              'college_name': 'ABC college',\n",
       "              'departments': ['Arts', 'Commerce', 'Science'],\n",
       "              '__init__': <function __main__.Student.__init__(self, name, roll_no, subject)>,\n",
       "              'studying': <function __main__.Student.studying(self, hours)>,\n",
       "              '__dict__': <attribute '__dict__' of 'Student' objects>,\n",
       "              '__weakref__': <attribute '__weakref__' of 'Student' objects>})"
      ]
     },
     "execution_count": 13,
     "metadata": {},
     "output_type": "execute_result"
    }
   ],
   "source": [
    "Student.__dict__"
   ]
  },
  {
   "cell_type": "code",
   "execution_count": 15,
   "id": "2aa42a89",
   "metadata": {},
   "outputs": [
    {
     "name": "stdout",
     "output_type": "stream",
     "text": [
      "Calling the initializer of Student class\n",
      "Calling the initializer of Student class\n"
     ]
    }
   ],
   "source": [
    "s1 = Student('John', 101, 'Maths')\n",
    "s2 = Student('Jill', 102, 'Python')"
   ]
  },
  {
   "cell_type": "code",
   "execution_count": 16,
   "id": "17db865f",
   "metadata": {},
   "outputs": [
    {
     "data": {
      "text/plain": [
       "<__main__.Student at 0x2662517cb50>"
      ]
     },
     "execution_count": 16,
     "metadata": {},
     "output_type": "execute_result"
    }
   ],
   "source": [
    "s1"
   ]
  },
  {
   "cell_type": "code",
   "execution_count": 17,
   "id": "34be0927",
   "metadata": {},
   "outputs": [
    {
     "data": {
      "text/plain": [
       "<__main__.Student at 0x2662517ca90>"
      ]
     },
     "execution_count": 17,
     "metadata": {},
     "output_type": "execute_result"
    }
   ],
   "source": [
    "s2"
   ]
  },
  {
   "cell_type": "code",
   "execution_count": 18,
   "id": "e6e0a43c",
   "metadata": {},
   "outputs": [
    {
     "data": {
      "text/plain": [
       "{'name': 'John', 'roll': 101, 'subject': 'Maths'}"
      ]
     },
     "execution_count": 18,
     "metadata": {},
     "output_type": "execute_result"
    }
   ],
   "source": [
    "s1.__dict__"
   ]
  },
  {
   "cell_type": "code",
   "execution_count": 19,
   "id": "83cf74f5",
   "metadata": {},
   "outputs": [
    {
     "data": {
      "text/plain": [
       "{'name': 'Jill', 'roll': 102, 'subject': 'Python'}"
      ]
     },
     "execution_count": 19,
     "metadata": {},
     "output_type": "execute_result"
    }
   ],
   "source": [
    "s2.__dict__"
   ]
  },
  {
   "cell_type": "code",
   "execution_count": null,
   "id": "d2efe517",
   "metadata": {},
   "outputs": [],
   "source": []
  },
  {
   "cell_type": "code",
   "execution_count": 20,
   "id": "75a14935",
   "metadata": {},
   "outputs": [
    {
     "data": {
      "text/plain": [
       "'John'"
      ]
     },
     "execution_count": 20,
     "metadata": {},
     "output_type": "execute_result"
    }
   ],
   "source": [
    "s1.name"
   ]
  },
  {
   "cell_type": "code",
   "execution_count": 21,
   "id": "f1ee2778",
   "metadata": {},
   "outputs": [
    {
     "data": {
      "text/plain": [
       "101"
      ]
     },
     "execution_count": 21,
     "metadata": {},
     "output_type": "execute_result"
    }
   ],
   "source": [
    "s1.roll"
   ]
  },
  {
   "cell_type": "code",
   "execution_count": 22,
   "id": "449badd6",
   "metadata": {},
   "outputs": [
    {
     "data": {
      "text/plain": [
       "'Jill'"
      ]
     },
     "execution_count": 22,
     "metadata": {},
     "output_type": "execute_result"
    }
   ],
   "source": [
    "s2.name"
   ]
  },
  {
   "cell_type": "code",
   "execution_count": 23,
   "id": "6ca25910",
   "metadata": {},
   "outputs": [
    {
     "data": {
      "text/plain": [
       "'ABC college'"
      ]
     },
     "execution_count": 23,
     "metadata": {},
     "output_type": "execute_result"
    }
   ],
   "source": [
    "s1.college_name"
   ]
  },
  {
   "cell_type": "code",
   "execution_count": 24,
   "id": "4aa1c3d2",
   "metadata": {},
   "outputs": [
    {
     "data": {
      "text/plain": [
       "'ABC college'"
      ]
     },
     "execution_count": 24,
     "metadata": {},
     "output_type": "execute_result"
    }
   ],
   "source": [
    "s2.college_name"
   ]
  },
  {
   "cell_type": "code",
   "execution_count": 25,
   "id": "e11dd34c",
   "metadata": {},
   "outputs": [
    {
     "data": {
      "text/plain": [
       "['Arts', 'Commerce', 'Science']"
      ]
     },
     "execution_count": 25,
     "metadata": {},
     "output_type": "execute_result"
    }
   ],
   "source": [
    "s1.departments"
   ]
  },
  {
   "cell_type": "code",
   "execution_count": 26,
   "id": "bf5ea780",
   "metadata": {},
   "outputs": [
    {
     "data": {
      "text/plain": [
       "['Arts', 'Commerce', 'Science']"
      ]
     },
     "execution_count": 26,
     "metadata": {},
     "output_type": "execute_result"
    }
   ],
   "source": [
    "s2.departments"
   ]
  },
  {
   "cell_type": "code",
   "execution_count": 27,
   "id": "660e55ae",
   "metadata": {},
   "outputs": [
    {
     "data": {
      "text/plain": [
       "'John'"
      ]
     },
     "execution_count": 27,
     "metadata": {},
     "output_type": "execute_result"
    }
   ],
   "source": [
    "s1.name"
   ]
  },
  {
   "cell_type": "code",
   "execution_count": 28,
   "id": "5b855b3d",
   "metadata": {},
   "outputs": [],
   "source": [
    "s1.name = 'Dan'"
   ]
  },
  {
   "cell_type": "code",
   "execution_count": 29,
   "id": "ffb33301",
   "metadata": {},
   "outputs": [
    {
     "data": {
      "text/plain": [
       "'Dan'"
      ]
     },
     "execution_count": 29,
     "metadata": {},
     "output_type": "execute_result"
    }
   ],
   "source": [
    "s1.name"
   ]
  },
  {
   "cell_type": "code",
   "execution_count": 30,
   "id": "0c39143e",
   "metadata": {},
   "outputs": [
    {
     "data": {
      "text/plain": [
       "2637732116016"
      ]
     },
     "execution_count": 30,
     "metadata": {},
     "output_type": "execute_result"
    }
   ],
   "source": [
    "id(s1.name)"
   ]
  },
  {
   "cell_type": "code",
   "execution_count": 31,
   "id": "05df900b",
   "metadata": {},
   "outputs": [],
   "source": [
    "s1.name = 'Ross'"
   ]
  },
  {
   "cell_type": "code",
   "execution_count": 32,
   "id": "37b40fc6",
   "metadata": {},
   "outputs": [
    {
     "data": {
      "text/plain": [
       "'Ross'"
      ]
     },
     "execution_count": 32,
     "metadata": {},
     "output_type": "execute_result"
    }
   ],
   "source": [
    "s1.name"
   ]
  },
  {
   "cell_type": "code",
   "execution_count": 33,
   "id": "12c1111e",
   "metadata": {},
   "outputs": [
    {
     "data": {
      "text/plain": [
       "2637732118256"
      ]
     },
     "execution_count": 33,
     "metadata": {},
     "output_type": "execute_result"
    }
   ],
   "source": [
    "id(s1.name)"
   ]
  },
  {
   "cell_type": "code",
   "execution_count": 34,
   "id": "d2b1f453",
   "metadata": {},
   "outputs": [
    {
     "data": {
      "text/plain": [
       "2637731539120"
      ]
     },
     "execution_count": 34,
     "metadata": {},
     "output_type": "execute_result"
    }
   ],
   "source": [
    "id(s2.name)"
   ]
  },
  {
   "cell_type": "code",
   "execution_count": null,
   "id": "24ed1927",
   "metadata": {},
   "outputs": [],
   "source": []
  },
  {
   "cell_type": "code",
   "execution_count": 35,
   "id": "56c0c90e",
   "metadata": {},
   "outputs": [],
   "source": [
    "a = 'John'"
   ]
  },
  {
   "cell_type": "code",
   "execution_count": 36,
   "id": "b001b4c3",
   "metadata": {},
   "outputs": [],
   "source": [
    "b = 'John'"
   ]
  },
  {
   "cell_type": "code",
   "execution_count": 37,
   "id": "d4b1adf3",
   "metadata": {},
   "outputs": [
    {
     "data": {
      "text/plain": [
       "2637727803632"
      ]
     },
     "execution_count": 37,
     "metadata": {},
     "output_type": "execute_result"
    }
   ],
   "source": [
    "id(a)"
   ]
  },
  {
   "cell_type": "code",
   "execution_count": 38,
   "id": "5fcd9e96",
   "metadata": {},
   "outputs": [
    {
     "data": {
      "text/plain": [
       "2637727803632"
      ]
     },
     "execution_count": 38,
     "metadata": {},
     "output_type": "execute_result"
    }
   ],
   "source": [
    "id(b)"
   ]
  },
  {
   "cell_type": "code",
   "execution_count": null,
   "id": "d3a8e43d",
   "metadata": {},
   "outputs": [],
   "source": []
  },
  {
   "cell_type": "code",
   "execution_count": 39,
   "id": "37456aac",
   "metadata": {},
   "outputs": [
    {
     "data": {
      "text/plain": [
       "'ABC college'"
      ]
     },
     "execution_count": 39,
     "metadata": {},
     "output_type": "execute_result"
    }
   ],
   "source": [
    "Student.college_name"
   ]
  },
  {
   "cell_type": "code",
   "execution_count": 40,
   "id": "3e9fb225",
   "metadata": {},
   "outputs": [
    {
     "data": {
      "text/plain": [
       "['Arts', 'Commerce', 'Science']"
      ]
     },
     "execution_count": 40,
     "metadata": {},
     "output_type": "execute_result"
    }
   ],
   "source": [
    "Student.departments"
   ]
  },
  {
   "cell_type": "code",
   "execution_count": 42,
   "id": "c6034bfe",
   "metadata": {},
   "outputs": [
    {
     "ename": "AttributeError",
     "evalue": "type object 'Student' has no attribute 'name'",
     "output_type": "error",
     "traceback": [
      "\u001b[1;31m---------------------------------------------------------------------------\u001b[0m",
      "\u001b[1;31mAttributeError\u001b[0m                            Traceback (most recent call last)",
      "Cell \u001b[1;32mIn[42], line 1\u001b[0m\n\u001b[1;32m----> 1\u001b[0m Student\u001b[38;5;241m.\u001b[39mname\n",
      "\u001b[1;31mAttributeError\u001b[0m: type object 'Student' has no attribute 'name'"
     ]
    }
   ],
   "source": [
    "Student.name"
   ]
  },
  {
   "cell_type": "code",
   "execution_count": 43,
   "id": "86171019",
   "metadata": {},
   "outputs": [
    {
     "name": "stdout",
     "output_type": "stream",
     "text": [
      "<__main__.Student object at 0x000002662517CB50>\n"
     ]
    },
    {
     "data": {
      "text/plain": [
       "'The student studies 3 hours a day!!'"
      ]
     },
     "execution_count": 43,
     "metadata": {},
     "output_type": "execute_result"
    }
   ],
   "source": [
    "s1.studying(3)"
   ]
  },
  {
   "cell_type": "code",
   "execution_count": null,
   "id": "0e9c10d0",
   "metadata": {},
   "outputs": [],
   "source": []
  },
  {
   "cell_type": "code",
   "execution_count": 44,
   "id": "710821c8",
   "metadata": {},
   "outputs": [
    {
     "data": {
      "text/plain": [
       "{'name': 'Ross', 'roll': 101, 'subject': 'Maths'}"
      ]
     },
     "execution_count": 44,
     "metadata": {},
     "output_type": "execute_result"
    }
   ],
   "source": [
    "s1.__dict__"
   ]
  },
  {
   "cell_type": "code",
   "execution_count": 45,
   "id": "939e2770",
   "metadata": {},
   "outputs": [
    {
     "data": {
      "text/plain": [
       "{'name': 'Jill', 'roll': 102, 'subject': 'Python'}"
      ]
     },
     "execution_count": 45,
     "metadata": {},
     "output_type": "execute_result"
    }
   ],
   "source": [
    "s2.__dict__"
   ]
  },
  {
   "cell_type": "code",
   "execution_count": 46,
   "id": "d770cc0c",
   "metadata": {},
   "outputs": [
    {
     "data": {
      "text/plain": [
       "mappingproxy({'__module__': '__main__',\n",
       "              '__doc__': '\\n    This class is for students.\\n    It is used to manage information about the student of a college.\\n    ',\n",
       "              'college_name': 'ABC college',\n",
       "              'departments': ['Arts', 'Commerce', 'Science'],\n",
       "              '__init__': <function __main__.Student.__init__(self, name, roll_no, subject)>,\n",
       "              'studying': <function __main__.Student.studying(self, hours)>,\n",
       "              '__dict__': <attribute '__dict__' of 'Student' objects>,\n",
       "              '__weakref__': <attribute '__weakref__' of 'Student' objects>})"
      ]
     },
     "execution_count": 46,
     "metadata": {},
     "output_type": "execute_result"
    }
   ],
   "source": [
    "Student.__dict__"
   ]
  },
  {
   "cell_type": "code",
   "execution_count": 47,
   "id": "b6ec5ea9",
   "metadata": {},
   "outputs": [],
   "source": [
    "s1.subject = 'English'"
   ]
  },
  {
   "cell_type": "code",
   "execution_count": 48,
   "id": "f158dba1",
   "metadata": {},
   "outputs": [
    {
     "data": {
      "text/plain": [
       "'English'"
      ]
     },
     "execution_count": 48,
     "metadata": {},
     "output_type": "execute_result"
    }
   ],
   "source": [
    "s1.subject"
   ]
  },
  {
   "cell_type": "code",
   "execution_count": 49,
   "id": "9dd3314a",
   "metadata": {},
   "outputs": [
    {
     "data": {
      "text/plain": [
       "{'name': 'Ross', 'roll': 101, 'subject': 'English'}"
      ]
     },
     "execution_count": 49,
     "metadata": {},
     "output_type": "execute_result"
    }
   ],
   "source": [
    "s1.__dict__"
   ]
  },
  {
   "cell_type": "code",
   "execution_count": 50,
   "id": "21bd1397",
   "metadata": {},
   "outputs": [
    {
     "data": {
      "text/plain": [
       "{'name': 'Jill', 'roll': 102, 'subject': 'Python'}"
      ]
     },
     "execution_count": 50,
     "metadata": {},
     "output_type": "execute_result"
    }
   ],
   "source": [
    "s2.__dict__"
   ]
  },
  {
   "cell_type": "code",
   "execution_count": 51,
   "id": "fd6b85f1",
   "metadata": {},
   "outputs": [
    {
     "data": {
      "text/plain": [
       "'ABC college'"
      ]
     },
     "execution_count": 51,
     "metadata": {},
     "output_type": "execute_result"
    }
   ],
   "source": [
    "s1.college_name"
   ]
  },
  {
   "cell_type": "code",
   "execution_count": 52,
   "id": "499b8a21",
   "metadata": {},
   "outputs": [],
   "source": [
    "s1.college_name = 'XYZ college'"
   ]
  },
  {
   "cell_type": "code",
   "execution_count": 53,
   "id": "188c1daa",
   "metadata": {},
   "outputs": [
    {
     "data": {
      "text/plain": [
       "'XYZ college'"
      ]
     },
     "execution_count": 53,
     "metadata": {},
     "output_type": "execute_result"
    }
   ],
   "source": [
    "s1.college_name"
   ]
  },
  {
   "cell_type": "code",
   "execution_count": 54,
   "id": "3d230c0a",
   "metadata": {},
   "outputs": [
    {
     "data": {
      "text/plain": [
       "mappingproxy({'__module__': '__main__',\n",
       "              '__doc__': '\\n    This class is for students.\\n    It is used to manage information about the student of a college.\\n    ',\n",
       "              'college_name': 'ABC college',\n",
       "              'departments': ['Arts', 'Commerce', 'Science'],\n",
       "              '__init__': <function __main__.Student.__init__(self, name, roll_no, subject)>,\n",
       "              'studying': <function __main__.Student.studying(self, hours)>,\n",
       "              '__dict__': <attribute '__dict__' of 'Student' objects>,\n",
       "              '__weakref__': <attribute '__weakref__' of 'Student' objects>})"
      ]
     },
     "execution_count": 54,
     "metadata": {},
     "output_type": "execute_result"
    }
   ],
   "source": [
    "Student.__dict__"
   ]
  },
  {
   "cell_type": "code",
   "execution_count": 55,
   "id": "9b428328",
   "metadata": {},
   "outputs": [
    {
     "data": {
      "text/plain": [
       "'ABC college'"
      ]
     },
     "execution_count": 55,
     "metadata": {},
     "output_type": "execute_result"
    }
   ],
   "source": [
    "s2.college_name"
   ]
  },
  {
   "cell_type": "code",
   "execution_count": null,
   "id": "bffff016",
   "metadata": {},
   "outputs": [],
   "source": []
  },
  {
   "cell_type": "code",
   "execution_count": 56,
   "id": "e1914a39",
   "metadata": {},
   "outputs": [],
   "source": [
    "# obj_name.var_name\n",
    "\n",
    "# Python checks the variable in the object's __dict__ first.\n",
    "# If it finds it there, it fetches the value, else, it checks the __dict__ of the class\n",
    "# If it finds the variable there, it fetches it.\n",
    "\n",
    "# If the variable is not found at either places, we get an error"
   ]
  },
  {
   "cell_type": "code",
   "execution_count": 57,
   "id": "dc68cac0",
   "metadata": {},
   "outputs": [
    {
     "data": {
      "text/plain": [
       "'Ross'"
      ]
     },
     "execution_count": 57,
     "metadata": {},
     "output_type": "execute_result"
    }
   ],
   "source": [
    "s1.name"
   ]
  },
  {
   "cell_type": "code",
   "execution_count": 58,
   "id": "994f09a9",
   "metadata": {},
   "outputs": [
    {
     "data": {
      "text/plain": [
       "{'name': 'Jill', 'roll': 102, 'subject': 'Python'}"
      ]
     },
     "execution_count": 58,
     "metadata": {},
     "output_type": "execute_result"
    }
   ],
   "source": [
    "s2.__dict__"
   ]
  },
  {
   "cell_type": "code",
   "execution_count": 59,
   "id": "8c835511",
   "metadata": {},
   "outputs": [
    {
     "data": {
      "text/plain": [
       "'ABC college'"
      ]
     },
     "execution_count": 59,
     "metadata": {},
     "output_type": "execute_result"
    }
   ],
   "source": [
    "s2.college_name"
   ]
  },
  {
   "cell_type": "code",
   "execution_count": 60,
   "id": "49c68acc",
   "metadata": {},
   "outputs": [],
   "source": [
    "s2.name = \"Monica\""
   ]
  },
  {
   "cell_type": "code",
   "execution_count": 61,
   "id": "48b6fdc3",
   "metadata": {},
   "outputs": [
    {
     "data": {
      "text/plain": [
       "'Monica'"
      ]
     },
     "execution_count": 61,
     "metadata": {},
     "output_type": "execute_result"
    }
   ],
   "source": [
    "s2.name"
   ]
  },
  {
   "cell_type": "code",
   "execution_count": 62,
   "id": "9a701e13",
   "metadata": {},
   "outputs": [],
   "source": [
    "s2.college_name = 'My college!!'"
   ]
  },
  {
   "cell_type": "code",
   "execution_count": 63,
   "id": "d67a9904",
   "metadata": {},
   "outputs": [
    {
     "data": {
      "text/plain": [
       "{'name': 'Monica',\n",
       " 'roll': 102,\n",
       " 'subject': 'Python',\n",
       " 'college_name': 'My college!!'}"
      ]
     },
     "execution_count": 63,
     "metadata": {},
     "output_type": "execute_result"
    }
   ],
   "source": [
    "s2.__dict__"
   ]
  },
  {
   "cell_type": "code",
   "execution_count": 64,
   "id": "f2d600d3",
   "metadata": {},
   "outputs": [
    {
     "data": {
      "text/plain": [
       "{'name': 'Ross',\n",
       " 'roll': 101,\n",
       " 'subject': 'English',\n",
       " 'college_name': 'XYZ college'}"
      ]
     },
     "execution_count": 64,
     "metadata": {},
     "output_type": "execute_result"
    }
   ],
   "source": [
    "s1.__dict__"
   ]
  },
  {
   "cell_type": "code",
   "execution_count": 65,
   "id": "0d7defd0",
   "metadata": {},
   "outputs": [],
   "source": [
    "# When we try to change a class variable using the object, it does not change the class variable,\n",
    "# rather, it creates an instance variable with the same name"
   ]
  },
  {
   "cell_type": "code",
   "execution_count": 66,
   "id": "db6b1da1",
   "metadata": {},
   "outputs": [
    {
     "data": {
      "text/plain": [
       "'XYZ college'"
      ]
     },
     "execution_count": 66,
     "metadata": {},
     "output_type": "execute_result"
    }
   ],
   "source": [
    "s1.college_name"
   ]
  },
  {
   "cell_type": "code",
   "execution_count": null,
   "id": "e2357450",
   "metadata": {},
   "outputs": [],
   "source": []
  },
  {
   "cell_type": "code",
   "execution_count": 67,
   "id": "d5f2926f",
   "metadata": {},
   "outputs": [
    {
     "data": {
      "text/plain": [
       "mappingproxy({'__module__': '__main__',\n",
       "              '__doc__': '\\n    This class is for students.\\n    It is used to manage information about the student of a college.\\n    ',\n",
       "              'college_name': 'ABC college',\n",
       "              'departments': ['Arts', 'Commerce', 'Science'],\n",
       "              '__init__': <function __main__.Student.__init__(self, name, roll_no, subject)>,\n",
       "              'studying': <function __main__.Student.studying(self, hours)>,\n",
       "              '__dict__': <attribute '__dict__' of 'Student' objects>,\n",
       "              '__weakref__': <attribute '__weakref__' of 'Student' objects>})"
      ]
     },
     "execution_count": 67,
     "metadata": {},
     "output_type": "execute_result"
    }
   ],
   "source": [
    "Student.__dict__"
   ]
  },
  {
   "cell_type": "code",
   "execution_count": 68,
   "id": "4663d609",
   "metadata": {},
   "outputs": [
    {
     "data": {
      "text/plain": [
       "{'name': 'Ross',\n",
       " 'roll': 101,\n",
       " 'subject': 'English',\n",
       " 'college_name': 'XYZ college'}"
      ]
     },
     "execution_count": 68,
     "metadata": {},
     "output_type": "execute_result"
    }
   ],
   "source": [
    "s1.__dict__"
   ]
  },
  {
   "cell_type": "code",
   "execution_count": 69,
   "id": "52301a0e",
   "metadata": {},
   "outputs": [
    {
     "data": {
      "text/plain": [
       "{'name': 'Monica',\n",
       " 'roll': 102,\n",
       " 'subject': 'Python',\n",
       " 'college_name': 'My college!!'}"
      ]
     },
     "execution_count": 69,
     "metadata": {},
     "output_type": "execute_result"
    }
   ],
   "source": [
    "s2.__dict__"
   ]
  },
  {
   "cell_type": "code",
   "execution_count": 70,
   "id": "80531205",
   "metadata": {},
   "outputs": [
    {
     "name": "stdout",
     "output_type": "stream",
     "text": [
      "Calling the initializer of Student class\n"
     ]
    }
   ],
   "source": [
    "s3 = Student('Chandler', 103, 'Physics')"
   ]
  },
  {
   "cell_type": "code",
   "execution_count": 71,
   "id": "90e309ba",
   "metadata": {},
   "outputs": [
    {
     "data": {
      "text/plain": [
       "{'name': 'Chandler', 'roll': 103, 'subject': 'Physics'}"
      ]
     },
     "execution_count": 71,
     "metadata": {},
     "output_type": "execute_result"
    }
   ],
   "source": [
    "s3.__dict__"
   ]
  },
  {
   "cell_type": "code",
   "execution_count": 72,
   "id": "596a7db3",
   "metadata": {},
   "outputs": [
    {
     "data": {
      "text/plain": [
       "'ABC college'"
      ]
     },
     "execution_count": 72,
     "metadata": {},
     "output_type": "execute_result"
    }
   ],
   "source": [
    "s3.college_name"
   ]
  },
  {
   "cell_type": "code",
   "execution_count": null,
   "id": "bb20c6e9",
   "metadata": {},
   "outputs": [],
   "source": []
  },
  {
   "cell_type": "code",
   "execution_count": 73,
   "id": "facf04e9",
   "metadata": {},
   "outputs": [
    {
     "name": "stdout",
     "output_type": "stream",
     "text": [
      "Calling the initializer of Student class\n"
     ]
    }
   ],
   "source": [
    "s4 = Student('Rachael', 103, 'Fashion')"
   ]
  },
  {
   "cell_type": "code",
   "execution_count": 74,
   "id": "2f11a386",
   "metadata": {},
   "outputs": [
    {
     "data": {
      "text/plain": [
       "103"
      ]
     },
     "execution_count": 74,
     "metadata": {},
     "output_type": "execute_result"
    }
   ],
   "source": [
    "s4.roll"
   ]
  },
  {
   "cell_type": "code",
   "execution_count": null,
   "id": "98e5055d",
   "metadata": {},
   "outputs": [],
   "source": []
  },
  {
   "cell_type": "code",
   "execution_count": 76,
   "id": "da252509",
   "metadata": {},
   "outputs": [],
   "source": [
    "class Student:\n",
    "    \"\"\"\n",
    "    This class is for students.\n",
    "    It is used to manage information about the student of a college.\n",
    "    \"\"\"\n",
    "    \n",
    "    college_name = \"ABC college\"\n",
    "    departments = ['Arts', 'Commerce', 'Science']\n",
    "    ids = []\n",
    "    \n",
    "    def __init__(self, name, roll_no, subject):\n",
    "        print(\"Calling the initializer of Student class\")\n",
    "        self.name = name\n",
    "        \n",
    "        if roll_no in Student.ids:\n",
    "            return \"Cannot create object. The roll number is already assigne to an existing stident!!!\"\n",
    "        else:\n",
    "            self.roll = roll_no\n",
    "            Student.ids.append(self.roll)\n",
    "   \n",
    "        self.subject = subject\n",
    "    \n",
    "    def studying(self, hours):\n",
    "        print(self)\n",
    "        return f\"The student studies {hours} hours a day!!\""
   ]
  },
  {
   "cell_type": "code",
   "execution_count": 77,
   "id": "0ec0121e",
   "metadata": {},
   "outputs": [
    {
     "name": "stdout",
     "output_type": "stream",
     "text": [
      "Calling the initializer of Student class\n"
     ]
    }
   ],
   "source": [
    "s1 = Student('Ross', 101, 'Dinosaurs')"
   ]
  },
  {
   "cell_type": "code",
   "execution_count": 78,
   "id": "f1adc6f5",
   "metadata": {},
   "outputs": [
    {
     "data": {
      "text/plain": [
       "[101]"
      ]
     },
     "execution_count": 78,
     "metadata": {},
     "output_type": "execute_result"
    }
   ],
   "source": [
    "Student.ids"
   ]
  },
  {
   "cell_type": "code",
   "execution_count": 79,
   "id": "61a9e2b7",
   "metadata": {},
   "outputs": [
    {
     "name": "stdout",
     "output_type": "stream",
     "text": [
      "Calling the initializer of Student class\n"
     ]
    }
   ],
   "source": [
    "s2 = Student('Monica', 102, 'Clean and cook')"
   ]
  },
  {
   "cell_type": "code",
   "execution_count": 80,
   "id": "7d88b62b",
   "metadata": {},
   "outputs": [
    {
     "data": {
      "text/plain": [
       "[101, 102]"
      ]
     },
     "execution_count": 80,
     "metadata": {},
     "output_type": "execute_result"
    }
   ],
   "source": [
    "Student.ids"
   ]
  },
  {
   "cell_type": "code",
   "execution_count": 81,
   "id": "aeab8002",
   "metadata": {},
   "outputs": [
    {
     "name": "stdout",
     "output_type": "stream",
     "text": [
      "Calling the initializer of Student class\n"
     ]
    },
    {
     "ename": "TypeError",
     "evalue": "__init__() should return None, not 'str'",
     "output_type": "error",
     "traceback": [
      "\u001b[1;31m---------------------------------------------------------------------------\u001b[0m",
      "\u001b[1;31mTypeError\u001b[0m                                 Traceback (most recent call last)",
      "Cell \u001b[1;32mIn[81], line 1\u001b[0m\n\u001b[1;32m----> 1\u001b[0m s2 \u001b[38;5;241m=\u001b[39m Student(\u001b[38;5;124m'\u001b[39m\u001b[38;5;124mChandler\u001b[39m\u001b[38;5;124m'\u001b[39m, \u001b[38;5;241m102\u001b[39m, \u001b[38;5;124m'\u001b[39m\u001b[38;5;124mSarcasm\u001b[39m\u001b[38;5;124m'\u001b[39m)\n",
      "\u001b[1;31mTypeError\u001b[0m: __init__() should return None, not 'str'"
     ]
    }
   ],
   "source": [
    "s2 = Student('Chandler', 102, 'Sarcasm')"
   ]
  },
  {
   "cell_type": "code",
   "execution_count": 82,
   "id": "d70c28a2",
   "metadata": {},
   "outputs": [],
   "source": [
    "# We cannot return from the init method"
   ]
  },
  {
   "cell_type": "code",
   "execution_count": 83,
   "id": "71b19e01",
   "metadata": {},
   "outputs": [],
   "source": [
    "class Student:\n",
    "    \"\"\"\n",
    "    This class is for students.\n",
    "    It is used to manage information about the student of a college.\n",
    "    \"\"\"\n",
    "    \n",
    "    college_name = \"ABC college\"\n",
    "    departments = ['Arts', 'Commerce', 'Science']\n",
    "    ids = []\n",
    "    \n",
    "    def __init__(self, name, roll_no, subject):\n",
    "        print(\"Calling the initializer of Student class\")\n",
    "        \n",
    "        \n",
    "        if roll_no in Student.ids:\n",
    "            print(\"Cannot create object. The roll number is already assigne to an existing stident!!!\")\n",
    "        else:\n",
    "            self.roll = roll_no\n",
    "            Student.ids.append(self.roll)\n",
    "            self.name = name\n",
    "            self.subject = subject\n",
    "    \n",
    "    def studying(self, hours):\n",
    "        print(self)\n",
    "        return f\"The student studies {hours} hours a day!!\""
   ]
  },
  {
   "cell_type": "code",
   "execution_count": 84,
   "id": "f67772ac",
   "metadata": {},
   "outputs": [
    {
     "name": "stdout",
     "output_type": "stream",
     "text": [
      "Calling the initializer of Student class\n"
     ]
    }
   ],
   "source": [
    "s1 = Student('Ross', 101, 'Dinosaurs')"
   ]
  },
  {
   "cell_type": "code",
   "execution_count": 85,
   "id": "167315b6",
   "metadata": {},
   "outputs": [
    {
     "name": "stdout",
     "output_type": "stream",
     "text": [
      "Calling the initializer of Student class\n"
     ]
    }
   ],
   "source": [
    "s2 = Student('Monica', 102, 'Clean and cook')"
   ]
  },
  {
   "cell_type": "code",
   "execution_count": 86,
   "id": "ae41aea4",
   "metadata": {},
   "outputs": [
    {
     "name": "stdout",
     "output_type": "stream",
     "text": [
      "Calling the initializer of Student class\n",
      "Cannot create object. The roll number is already assigne to an existing stident!!!\n"
     ]
    }
   ],
   "source": [
    "s3 = Student('Chandler', 102, 'Sarcasm')"
   ]
  },
  {
   "cell_type": "code",
   "execution_count": null,
   "id": "eacd7ccf",
   "metadata": {},
   "outputs": [],
   "source": []
  },
  {
   "cell_type": "code",
   "execution_count": 88,
   "id": "a13d43fc",
   "metadata": {},
   "outputs": [
    {
     "data": {
      "text/plain": [
       "{'roll': 101, 'name': 'Ross', 'subject': 'Dinosaurs'}"
      ]
     },
     "execution_count": 88,
     "metadata": {},
     "output_type": "execute_result"
    }
   ],
   "source": [
    "s1.__dict__"
   ]
  },
  {
   "cell_type": "code",
   "execution_count": 87,
   "id": "7e4eac0e",
   "metadata": {},
   "outputs": [],
   "source": [
    "# Deleting an attribute - delattr"
   ]
  },
  {
   "cell_type": "code",
   "execution_count": 89,
   "id": "e40286f1",
   "metadata": {},
   "outputs": [
    {
     "data": {
      "text/plain": [
       "'ABC college'"
      ]
     },
     "execution_count": 89,
     "metadata": {},
     "output_type": "execute_result"
    }
   ],
   "source": [
    "s1.college_name"
   ]
  },
  {
   "cell_type": "code",
   "execution_count": 90,
   "id": "57355c22",
   "metadata": {},
   "outputs": [],
   "source": [
    "s1.college_name = 'XYZ college'"
   ]
  },
  {
   "cell_type": "code",
   "execution_count": 91,
   "id": "9a2f37e9",
   "metadata": {},
   "outputs": [
    {
     "data": {
      "text/plain": [
       "{'roll': 101,\n",
       " 'name': 'Ross',\n",
       " 'subject': 'Dinosaurs',\n",
       " 'college_name': 'XYZ college'}"
      ]
     },
     "execution_count": 91,
     "metadata": {},
     "output_type": "execute_result"
    }
   ],
   "source": [
    "s1.__dict__"
   ]
  },
  {
   "cell_type": "code",
   "execution_count": 92,
   "id": "6264860a",
   "metadata": {},
   "outputs": [],
   "source": [
    "delattr(s1, 'college_name') # delattr(object_name, attribute_name)"
   ]
  },
  {
   "cell_type": "code",
   "execution_count": 93,
   "id": "3109424b",
   "metadata": {},
   "outputs": [
    {
     "data": {
      "text/plain": [
       "{'roll': 101, 'name': 'Ross', 'subject': 'Dinosaurs'}"
      ]
     },
     "execution_count": 93,
     "metadata": {},
     "output_type": "execute_result"
    }
   ],
   "source": [
    "s1.__dict__"
   ]
  },
  {
   "cell_type": "code",
   "execution_count": 95,
   "id": "6e44bba7",
   "metadata": {},
   "outputs": [
    {
     "data": {
      "text/plain": [
       "True"
      ]
     },
     "execution_count": 95,
     "metadata": {},
     "output_type": "execute_result"
    }
   ],
   "source": [
    "'college_name' in Student.__dict__"
   ]
  },
  {
   "cell_type": "code",
   "execution_count": 96,
   "id": "c14c33e0",
   "metadata": {},
   "outputs": [],
   "source": [
    "# s1.college_name = 'ACHBHBBVHB'"
   ]
  },
  {
   "cell_type": "code",
   "execution_count": null,
   "id": "d8b6a956",
   "metadata": {},
   "outputs": [],
   "source": []
  },
  {
   "cell_type": "code",
   "execution_count": 94,
   "id": "a8c29efa",
   "metadata": {},
   "outputs": [],
   "source": [
    "# class method"
   ]
  },
  {
   "cell_type": "code",
   "execution_count": 100,
   "id": "314e5396",
   "metadata": {},
   "outputs": [],
   "source": [
    "# a method/function defined inside the class which is bound to the class, NOT the instance / object"
   ]
  },
  {
   "cell_type": "code",
   "execution_count": 101,
   "id": "2b676f0e",
   "metadata": {},
   "outputs": [],
   "source": [
    "class Welcome:\n",
    "    def greet():\n",
    "        return 'Hello, good evening!!'"
   ]
  },
  {
   "cell_type": "code",
   "execution_count": 102,
   "id": "c45b4fbf",
   "metadata": {},
   "outputs": [],
   "source": [
    "w1 = Welcome()"
   ]
  },
  {
   "cell_type": "code",
   "execution_count": 103,
   "id": "b2547e43",
   "metadata": {},
   "outputs": [
    {
     "ename": "TypeError",
     "evalue": "Welcome.greet() takes 0 positional arguments but 1 was given",
     "output_type": "error",
     "traceback": [
      "\u001b[1;31m---------------------------------------------------------------------------\u001b[0m",
      "\u001b[1;31mTypeError\u001b[0m                                 Traceback (most recent call last)",
      "Cell \u001b[1;32mIn[103], line 1\u001b[0m\n\u001b[1;32m----> 1\u001b[0m w1\u001b[38;5;241m.\u001b[39mgreet()\n",
      "\u001b[1;31mTypeError\u001b[0m: Welcome.greet() takes 0 positional arguments but 1 was given"
     ]
    }
   ],
   "source": [
    "w1.greet()"
   ]
  },
  {
   "cell_type": "code",
   "execution_count": 104,
   "id": "e681e3d8",
   "metadata": {},
   "outputs": [],
   "source": [
    "# ALL the methods defined inside the class are INSTANCE methods, unless defined otherwise"
   ]
  },
  {
   "cell_type": "code",
   "execution_count": 105,
   "id": "7c067a0f",
   "metadata": {},
   "outputs": [],
   "source": [
    "# greet() is an instance method"
   ]
  },
  {
   "cell_type": "code",
   "execution_count": null,
   "id": "86675660",
   "metadata": {},
   "outputs": [],
   "source": []
  },
  {
   "cell_type": "code",
   "execution_count": 106,
   "id": "494b8716",
   "metadata": {},
   "outputs": [],
   "source": [
    "# how to create a class method??"
   ]
  },
  {
   "cell_type": "code",
   "execution_count": 107,
   "id": "93eb8fae",
   "metadata": {},
   "outputs": [],
   "source": [
    "# To create a class method, we have to use a decorator => 'classmethod'"
   ]
  },
  {
   "cell_type": "code",
   "execution_count": 108,
   "id": "c9dec055",
   "metadata": {},
   "outputs": [],
   "source": [
    "class Welcome:\n",
    "    \n",
    "    @classmethod\n",
    "    def greet():\n",
    "        return 'Hello, good evening!!'"
   ]
  },
  {
   "cell_type": "code",
   "execution_count": 109,
   "id": "ee0e451a",
   "metadata": {},
   "outputs": [],
   "source": [
    "w1 = Welcome()"
   ]
  },
  {
   "cell_type": "code",
   "execution_count": 110,
   "id": "96cc4e27",
   "metadata": {},
   "outputs": [
    {
     "ename": "TypeError",
     "evalue": "Welcome.greet() takes 0 positional arguments but 1 was given",
     "output_type": "error",
     "traceback": [
      "\u001b[1;31m---------------------------------------------------------------------------\u001b[0m",
      "\u001b[1;31mTypeError\u001b[0m                                 Traceback (most recent call last)",
      "Cell \u001b[1;32mIn[110], line 1\u001b[0m\n\u001b[1;32m----> 1\u001b[0m w1\u001b[38;5;241m.\u001b[39mgreet()\n",
      "\u001b[1;31mTypeError\u001b[0m: Welcome.greet() takes 0 positional arguments but 1 was given"
     ]
    }
   ],
   "source": [
    "w1.greet()"
   ]
  },
  {
   "cell_type": "code",
   "execution_count": 111,
   "id": "d1ac06b6",
   "metadata": {},
   "outputs": [],
   "source": [
    "class Welcome:\n",
    "    \n",
    "    @classmethod\n",
    "    def greet(arg):\n",
    "        print(arg)\n",
    "        return 'Hello, good evening!!'"
   ]
  },
  {
   "cell_type": "code",
   "execution_count": 112,
   "id": "6d7c0118",
   "metadata": {},
   "outputs": [],
   "source": [
    "w1 = Welcome()"
   ]
  },
  {
   "cell_type": "code",
   "execution_count": 113,
   "id": "b6551709",
   "metadata": {},
   "outputs": [
    {
     "name": "stdout",
     "output_type": "stream",
     "text": [
      "<__main__.Welcome object at 0x0000026626249210>\n"
     ]
    }
   ],
   "source": [
    "print(w1)"
   ]
  },
  {
   "cell_type": "code",
   "execution_count": 115,
   "id": "c41215c3",
   "metadata": {},
   "outputs": [
    {
     "name": "stdout",
     "output_type": "stream",
     "text": [
      "<class '__main__.Welcome'>\n"
     ]
    }
   ],
   "source": [
    "print(Welcome)"
   ]
  },
  {
   "cell_type": "code",
   "execution_count": 116,
   "id": "2b2c6139",
   "metadata": {},
   "outputs": [
    {
     "name": "stdout",
     "output_type": "stream",
     "text": [
      "<class '__main__.Welcome'>\n"
     ]
    },
    {
     "data": {
      "text/plain": [
       "'Hello, good evening!!'"
      ]
     },
     "execution_count": 116,
     "metadata": {},
     "output_type": "execute_result"
    }
   ],
   "source": [
    "w1.greet() # class will be passed as the first argument"
   ]
  },
  {
   "cell_type": "code",
   "execution_count": 117,
   "id": "2f5c6d17",
   "metadata": {},
   "outputs": [],
   "source": [
    "# Class is passed as the first argument of all the class methods\n",
    "# 'cls' is the convention to be used for that argument"
   ]
  },
  {
   "cell_type": "code",
   "execution_count": 118,
   "id": "f7cd1a0c",
   "metadata": {},
   "outputs": [],
   "source": [
    "class Welcome:\n",
    "    \n",
    "    @classmethod\n",
    "    def greet(cls):\n",
    "        print(cls)\n",
    "        return 'Hello, good evening!!'"
   ]
  },
  {
   "cell_type": "code",
   "execution_count": 119,
   "id": "24c0ab38",
   "metadata": {},
   "outputs": [],
   "source": [
    "w1 = Welcome()"
   ]
  },
  {
   "cell_type": "code",
   "execution_count": 120,
   "id": "f055c2c2",
   "metadata": {},
   "outputs": [
    {
     "name": "stdout",
     "output_type": "stream",
     "text": [
      "<class '__main__.Welcome'>\n"
     ]
    },
    {
     "data": {
      "text/plain": [
       "'Hello, good evening!!'"
      ]
     },
     "execution_count": 120,
     "metadata": {},
     "output_type": "execute_result"
    }
   ],
   "source": [
    "w1.greet()"
   ]
  },
  {
   "cell_type": "code",
   "execution_count": 121,
   "id": "66ce5025",
   "metadata": {},
   "outputs": [],
   "source": [
    "class Welcome:\n",
    "    \n",
    "    @classmethod\n",
    "    def greet(cls):\n",
    "        print(cls)\n",
    "        return 'Hello, good evening!!'\n",
    "    \n",
    "    def m1(self):\n",
    "        print(\"Calling m1\")\n",
    "        print(self)\n",
    "    \n",
    "    \n",
    "    @classmethod\n",
    "    def m2(cls):\n",
    "        print(\"Calling m2\")\n",
    "        print(cls)"
   ]
  },
  {
   "cell_type": "code",
   "execution_count": 122,
   "id": "d85cfcc9",
   "metadata": {},
   "outputs": [],
   "source": [
    "w1 = Welcome()"
   ]
  },
  {
   "cell_type": "code",
   "execution_count": 123,
   "id": "0e3ee1a3",
   "metadata": {},
   "outputs": [
    {
     "name": "stdout",
     "output_type": "stream",
     "text": [
      "<class '__main__.Welcome'>\n"
     ]
    },
    {
     "data": {
      "text/plain": [
       "'Hello, good evening!!'"
      ]
     },
     "execution_count": 123,
     "metadata": {},
     "output_type": "execute_result"
    }
   ],
   "source": [
    "w1.greet()"
   ]
  },
  {
   "cell_type": "code",
   "execution_count": 124,
   "id": "f1eda963",
   "metadata": {},
   "outputs": [
    {
     "name": "stdout",
     "output_type": "stream",
     "text": [
      "Calling m1\n",
      "<__main__.Welcome object at 0x0000026626060CD0>\n"
     ]
    }
   ],
   "source": [
    "w1.m1()"
   ]
  },
  {
   "cell_type": "code",
   "execution_count": 126,
   "id": "1e4441f4",
   "metadata": {},
   "outputs": [
    {
     "name": "stdout",
     "output_type": "stream",
     "text": [
      "<__main__.Welcome object at 0x0000026626060CD0>\n"
     ]
    }
   ],
   "source": [
    "print(w1)"
   ]
  },
  {
   "cell_type": "code",
   "execution_count": 127,
   "id": "a113dee1",
   "metadata": {},
   "outputs": [
    {
     "name": "stdout",
     "output_type": "stream",
     "text": [
      "Calling m2\n",
      "<class '__main__.Welcome'>\n"
     ]
    }
   ],
   "source": [
    "w1.m2()"
   ]
  },
  {
   "cell_type": "code",
   "execution_count": null,
   "id": "43ce1024",
   "metadata": {},
   "outputs": [],
   "source": []
  },
  {
   "cell_type": "code",
   "execution_count": 128,
   "id": "b0b1706b",
   "metadata": {},
   "outputs": [
    {
     "name": "stdout",
     "output_type": "stream",
     "text": [
      "Help on class classmethod in module builtins:\n",
      "\n",
      "class classmethod(object)\n",
      " |  classmethod(function) -> method\n",
      " |  \n",
      " |  Convert a function to be a class method.\n",
      " |  \n",
      " |  A class method receives the class as implicit first argument,\n",
      " |  just like an instance method receives the instance.\n",
      " |  To declare a class method, use this idiom:\n",
      " |  \n",
      " |    class C:\n",
      " |        @classmethod\n",
      " |        def f(cls, arg1, arg2, argN):\n",
      " |            ...\n",
      " |  \n",
      " |  It can be called either on the class (e.g. C.f()) or on an instance\n",
      " |  (e.g. C().f()).  The instance is ignored except for its class.\n",
      " |  If a class method is called for a derived class, the derived class\n",
      " |  object is passed as the implied first argument.\n",
      " |  \n",
      " |  Class methods are different than C++ or Java static methods.\n",
      " |  If you want those, see the staticmethod builtin.\n",
      " |  \n",
      " |  Methods defined here:\n",
      " |  \n",
      " |  __get__(self, instance, owner=None, /)\n",
      " |      Return an attribute of instance, which is of type owner.\n",
      " |  \n",
      " |  __init__(self, /, *args, **kwargs)\n",
      " |      Initialize self.  See help(type(self)) for accurate signature.\n",
      " |  \n",
      " |  __repr__(self, /)\n",
      " |      Return repr(self).\n",
      " |  \n",
      " |  ----------------------------------------------------------------------\n",
      " |  Static methods defined here:\n",
      " |  \n",
      " |  __new__(*args, **kwargs) from builtins.type\n",
      " |      Create and return a new object.  See help(type) for accurate signature.\n",
      " |  \n",
      " |  ----------------------------------------------------------------------\n",
      " |  Data descriptors defined here:\n",
      " |  \n",
      " |  __dict__\n",
      " |  \n",
      " |  __func__\n",
      " |  \n",
      " |  __isabstractmethod__\n",
      " |  \n",
      " |  __wrapped__\n",
      "\n"
     ]
    }
   ],
   "source": [
    "help(classmethod)"
   ]
  },
  {
   "cell_type": "code",
   "execution_count": null,
   "id": "74d51554",
   "metadata": {},
   "outputs": [],
   "source": []
  },
  {
   "cell_type": "code",
   "execution_count": 129,
   "id": "fc6d3d78",
   "metadata": {},
   "outputs": [],
   "source": [
    "class Student:\n",
    "    \"\"\"\n",
    "    This class is for students.\n",
    "    It is used to manage information about the student of a college.\n",
    "    \"\"\"\n",
    "    \n",
    "    college_name = \"ABC college\"\n",
    "    departments = ['Arts', 'Commerce', 'Science']\n",
    "    ids = []\n",
    "    \n",
    "    def __init__(self, name, roll_no, subject):\n",
    "        print(\"Calling the initializer of Student class\")\n",
    "        \n",
    "        \n",
    "        if roll_no in Student.ids:\n",
    "            print(\"Cannot create object. The roll number is already assigne to an existing stident!!!\")\n",
    "        else:\n",
    "            self.roll = roll_no\n",
    "            Student.ids.append(self.roll)\n",
    "            self.name = name\n",
    "            self.subject = subject\n",
    "    \n",
    "    def studying(self, hours):\n",
    "        print(self)\n",
    "        return f\"The student studies {hours} hours a day!!\"\n",
    "    \n",
    "    @classmethod\n",
    "    def greet(cls):\n",
    "        return \"Welcome to the college!\""
   ]
  },
  {
   "cell_type": "code",
   "execution_count": 130,
   "id": "db1d1130",
   "metadata": {},
   "outputs": [
    {
     "name": "stdout",
     "output_type": "stream",
     "text": [
      "Calling the initializer of Student class\n"
     ]
    }
   ],
   "source": [
    "s1 = Student('Ross', 101, 'Science')"
   ]
  },
  {
   "cell_type": "code",
   "execution_count": 131,
   "id": "845a673a",
   "metadata": {},
   "outputs": [
    {
     "data": {
      "text/plain": [
       "<__main__.Student at 0x266263745d0>"
      ]
     },
     "execution_count": 131,
     "metadata": {},
     "output_type": "execute_result"
    }
   ],
   "source": [
    "s1"
   ]
  },
  {
   "cell_type": "code",
   "execution_count": 132,
   "id": "58669614",
   "metadata": {},
   "outputs": [
    {
     "data": {
      "text/plain": [
       "'Welcome to the college!'"
      ]
     },
     "execution_count": 132,
     "metadata": {},
     "output_type": "execute_result"
    }
   ],
   "source": [
    "s1.greet()"
   ]
  },
  {
   "cell_type": "code",
   "execution_count": 133,
   "id": "675d32e8",
   "metadata": {},
   "outputs": [],
   "source": [
    "class Student:\n",
    "    \"\"\"\n",
    "    This class is for students.\n",
    "    It is used to manage information about the student of a college.\n",
    "    \"\"\"\n",
    "    \n",
    "    college_name = \"ABC college\"\n",
    "    departments = ['Arts', 'Commerce', 'Science']\n",
    "    ids = []\n",
    "    \n",
    "    def __init__(self, name, roll_no, subject):\n",
    "        print(\"Calling the initializer of Student class\")\n",
    "        \n",
    "        \n",
    "        if roll_no in Student.ids:\n",
    "            print(\"Cannot create object. The roll number is already assigne to an existing stident!!!\")\n",
    "        else:\n",
    "            self.roll = roll_no\n",
    "            Student.ids.append(self.roll)\n",
    "            self.name = name\n",
    "            self.subject = subject\n",
    "    \n",
    "    def studying(self, hours):\n",
    "        print(self)\n",
    "        return f\"The student studies {hours} hours a day!!\"\n",
    "    \n",
    "    @classmethod\n",
    "    def greet(cls):\n",
    "        return f\"Welcome to {cls.college_name}!\""
   ]
  },
  {
   "cell_type": "code",
   "execution_count": 134,
   "id": "3f69f547",
   "metadata": {},
   "outputs": [
    {
     "name": "stdout",
     "output_type": "stream",
     "text": [
      "Calling the initializer of Student class\n"
     ]
    }
   ],
   "source": [
    "s1 = Student('Ross', 101, 'Science')"
   ]
  },
  {
   "cell_type": "code",
   "execution_count": 135,
   "id": "7bc3b9ce",
   "metadata": {},
   "outputs": [
    {
     "data": {
      "text/plain": [
       "'Welcome to ABC college!'"
      ]
     },
     "execution_count": 135,
     "metadata": {},
     "output_type": "execute_result"
    }
   ],
   "source": [
    "s1.greet()"
   ]
  },
  {
   "cell_type": "code",
   "execution_count": null,
   "id": "9268b818",
   "metadata": {},
   "outputs": [],
   "source": []
  },
  {
   "cell_type": "code",
   "execution_count": null,
   "id": "42c7d83c",
   "metadata": {},
   "outputs": [],
   "source": []
  }
 ],
 "metadata": {
  "kernelspec": {
   "display_name": "Python 3 (ipykernel)",
   "language": "python",
   "name": "python3"
  },
  "language_info": {
   "codemirror_mode": {
    "name": "ipython",
    "version": 3
   },
   "file_extension": ".py",
   "mimetype": "text/x-python",
   "name": "python",
   "nbconvert_exporter": "python",
   "pygments_lexer": "ipython3",
   "version": "3.11.4"
  }
 },
 "nbformat": 4,
 "nbformat_minor": 5
}
