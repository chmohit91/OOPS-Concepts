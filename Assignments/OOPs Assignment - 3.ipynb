{
 "cells": [
  {
   "cell_type": "code",
   "execution_count": null,
   "id": "8ce6ef18",
   "metadata": {},
   "outputs": [],
   "source": [
    "# Q1. This is an enhancement of Q1 of Assignment 2.\n",
    "# a. Define __str__ method for class Square\n",
    "# Verify its usage.\n",
    "\n",
    "# b. Define a method to the class Square which checks if a square object is less than another\n",
    "# square1 < square2\n",
    "# Returns True if side of square1 is less than the side of square2, else returns False\n",
    "\n",
    "# c. Define a method to the class Square which subtracts the areas of 2 square \n",
    "# # square1 - square2\n",
    "# Returns the difference of the areas of both squares (absolute value)\n"
   ]
  },
  {
   "cell_type": "code",
   "execution_count": null,
   "id": "42874d61",
   "metadata": {},
   "outputs": [],
   "source": []
  },
  {
   "cell_type": "code",
   "execution_count": null,
   "id": "01f7ddd6",
   "metadata": {},
   "outputs": [],
   "source": [
    "# Q2. This is enhancement of Q2 of Assignment 2.\n",
    "# a. Modify the EquilateralTriangle class to have the area function of it's own.\n",
    "# Formula: √3/4a2\n",
    "# b. Check which area method is called? (Parent's or Child's)\n",
    "# c. Verify it using MRO"
   ]
  }
 ],
 "metadata": {
  "kernelspec": {
   "display_name": "Python 3 (ipykernel)",
   "language": "python",
   "name": "python3"
  },
  "language_info": {
   "codemirror_mode": {
    "name": "ipython",
    "version": 3
   },
   "file_extension": ".py",
   "mimetype": "text/x-python",
   "name": "python",
   "nbconvert_exporter": "python",
   "pygments_lexer": "ipython3",
   "version": "3.11.4"
  }
 },
 "nbformat": 4,
 "nbformat_minor": 5
}
