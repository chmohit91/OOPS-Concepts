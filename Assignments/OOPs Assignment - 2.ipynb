{
 "cells": [
  {
   "cell_type": "code",
   "execution_count": null,
   "id": "c1be7ea2",
   "metadata": {},
   "outputs": [],
   "source": []
  },
  {
   "cell_type": "code",
   "execution_count": null,
   "id": "6d71f6ac",
   "metadata": {},
   "outputs": [],
   "source": [
    "# Q1.\n",
    "# a. Create a class Square. \n",
    "# Define a initializer that initializes one attribute - side of the square.\n",
    "# b. Define 2 methods - \n",
    "# area and perimeter which returns the area and the perimeter respectively.\n",
    "# c. Change the side attribute to private\n",
    "# d. Create getter and setter for side attribute. Write a logic which does not allow \n",
    "# anyone to set the side to a negative or zero value.\n",
    "\n",
    "# Do we need to change the area and perimeter methods after changing the side attibute \n",
    "# to private?"
   ]
  },
  {
   "cell_type": "code",
   "execution_count": null,
   "id": "106f43a9",
   "metadata": {},
   "outputs": [],
   "source": [
    "# Q2. \n",
    "# a. Create a class Triangle with 3 sides as instance variables (attributes).\n",
    "# b. Define a area() method that calculates the area of the given triangle object.\n",
    "# Formula: √(s(s-a)(s-b)(s-c), where, a,b,c are sides of the triangle and s = (a+b+c)/2\n",
    "# c. Create another class EquilateralTriangle which inherits class Triangle.\n",
    "# Define a initializer that initializes one attribute - side of the equilateral triangle.\n",
    "# d. Initialize the parent class from child class\n",
    "# e. Calculate the area of an object of EquilateralTriangle using the area method \n",
    "# of class Triangle.\n",
    "           \n",
    "# NOTE: equilateral triangle is a triangle whose all sides are equal.\n",
    "\n"
   ]
  }
 ],
 "metadata": {
  "kernelspec": {
   "display_name": "Python 3 (ipykernel)",
   "language": "python",
   "name": "python3"
  },
  "language_info": {
   "codemirror_mode": {
    "name": "ipython",
    "version": 3
   },
   "file_extension": ".py",
   "mimetype": "text/x-python",
   "name": "python",
   "nbconvert_exporter": "python",
   "pygments_lexer": "ipython3",
   "version": "3.11.4"
  }
 },
 "nbformat": 4,
 "nbformat_minor": 5
}
