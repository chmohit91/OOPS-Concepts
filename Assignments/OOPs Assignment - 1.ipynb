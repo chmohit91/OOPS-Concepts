{
 "cells": [
  {
   "cell_type": "code",
   "execution_count": 1,
   "id": "4613cee6",
   "metadata": {},
   "outputs": [],
   "source": [
    "# Q1. \n",
    "# a. Write a program to create a class Rectangle. Initialize the length and breadth \n",
    "# of the rectangle.\n",
    "\n",
    "# b. Create 2 instance methods: one to return the area and another to \n",
    "# return the perimeter of the given rectangle.\n",
    "\n",
    "# c. Create 3 Rectangle objects. Each object will take 2 values as mentioned above - \n",
    "# length and breadth of that rectangle.\n",
    "\n",
    "# d. print the area and perimeters of each rectangle object."
   ]
  },
  {
   "cell_type": "code",
   "execution_count": 2,
   "id": "9f2c3cdf",
   "metadata": {},
   "outputs": [],
   "source": [
    "# Q2. \n",
    "# a. Add documentation for class Rectangle.\n",
    "# b. Check the doc using special method\n",
    "# c. Print all the details of the class (Use special attribute)\n",
    "# d. Print all the details of the class (Use help)\n",
    "# Observe the differences"
   ]
  },
  {
   "cell_type": "code",
   "execution_count": 3,
   "id": "c326cd8c",
   "metadata": {},
   "outputs": [],
   "source": [
    "# Q3. \n",
    "# a. Access the attributes using a object\n",
    "# b. Change the height of a rectangle object\n",
    "# c. Check if makes any difference to the height attribute of other objects.\n",
    "# d. Add a new attribute to one of the objects\n",
    "# e. Check if the attribute is available to new objects of the class"
   ]
  },
  {
   "cell_type": "code",
   "execution_count": 4,
   "id": "62081524",
   "metadata": {},
   "outputs": [],
   "source": [
    "# Q4.\n",
    "# a. Create a class Contacts and define a __init__() method.\n",
    "# Take 2 attributes while initializing - name and mobile number.\n",
    "\n",
    "# b. Define a class variable - contact list - in which the objects of the Contacts class \n",
    "# will be appended at the time of instantiation.\n",
    "\n",
    "# c. Define a method which takes a 'name' of a contact (object) as an argument \n",
    "# and returns the mobile number of that contact (object).\n",
    "# Hint: Use the contact list class variable in which the objects are stored to fetch \n",
    "# the mobile number using the name.\n"
   ]
  },
  {
   "cell_type": "code",
   "execution_count": null,
   "id": "9a478948",
   "metadata": {},
   "outputs": [],
   "source": []
  }
 ],
 "metadata": {
  "kernelspec": {
   "display_name": "Python 3 (ipykernel)",
   "language": "python",
   "name": "python3"
  },
  "language_info": {
   "codemirror_mode": {
    "name": "ipython",
    "version": 3
   },
   "file_extension": ".py",
   "mimetype": "text/x-python",
   "name": "python",
   "nbconvert_exporter": "python",
   "pygments_lexer": "ipython3",
   "version": "3.11.4"
  }
 },
 "nbformat": 4,
 "nbformat_minor": 5
}
