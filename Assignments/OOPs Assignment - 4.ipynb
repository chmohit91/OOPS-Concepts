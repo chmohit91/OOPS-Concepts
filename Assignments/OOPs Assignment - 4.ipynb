{
 "cells": [
  {
   "cell_type": "code",
   "execution_count": null,
   "id": "5c136b3b",
   "metadata": {},
   "outputs": [],
   "source": [
    "# Q1.\n",
    "# Create 2 classes for 2 food delivery applications\n",
    "# Make sure both the classes have 2 mandotary methods - place_order and deliver_food \n"
   ]
  }
 ],
 "metadata": {
  "kernelspec": {
   "display_name": "Python 3 (ipykernel)",
   "language": "python",
   "name": "python3"
  },
  "language_info": {
   "codemirror_mode": {
    "name": "ipython",
    "version": 3
   },
   "file_extension": ".py",
   "mimetype": "text/x-python",
   "name": "python",
   "nbconvert_exporter": "python",
   "pygments_lexer": "ipython3",
   "version": "3.11.4"
  }
 },
 "nbformat": 4,
 "nbformat_minor": 5
}
